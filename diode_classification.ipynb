{
  "nbformat": 4,
  "nbformat_minor": 0,
  "metadata": {
    "colab": {
      "provenance": []
    },
    "kernelspec": {
      "name": "python3",
      "display_name": "Python 3"
    },
    "language_info": {
      "name": "python"
    }
  },
  "cells": [
    {
      "cell_type": "markdown",
      "source": [
        "In this notebook, I implement a Dense and and a Convolution Neural netwotk to compare the different accuracy.\n",
        "\n",
        "The dataset and the code for the maps are from this github repo : https://github.com/ShawnHymel/computer-vision-with-embedded-machine-learning/tree/master"
      ],
      "metadata": {
        "id": "b7JmJvCJLa0n"
      }
    },
    {
      "cell_type": "code",
      "execution_count": null,
      "metadata": {
        "id": "7A86u2KMtDBO"
      },
      "outputs": [],
      "source": [
        "import os\n",
        "import PIL\n",
        "import cv2\n",
        "import numpy as np\n",
        "import tensorflow as tf\n",
        "from tensorflow import keras\n",
        "from datetime import datetime\n",
        "import matplotlib.pyplot as plt\n",
        "from matplotlib.pyplot import figure\n"
      ]
    },
    {
      "cell_type": "markdown",
      "source": [
        "# Dataset creation"
      ],
      "metadata": {
        "id": "LrRtpfrUytWM"
      }
    },
    {
      "cell_type": "code",
      "source": [
        "labeldic={\"background\":0,\"capacitor\":1,\"diode\":2,\"led\":3,\"resistor\":4}\n",
        "labels=[\"background\",\"capacitor\",\"diode\",\"led\",\"resistor\"]"
      ],
      "metadata": {
        "id": "Hq61JsoLFlYr"
      },
      "execution_count": null,
      "outputs": []
    },
    {
      "cell_type": "code",
      "source": [
        "dataset_path = \"dataset\"\n",
        "\n",
        "X=[]\n",
        "y=[]\n",
        "\n",
        "for subdir, dirs, files in os.walk(dataset_path):\n",
        "  for file in files:\n",
        "    #print os.path.join(subdir, file)\n",
        "    filepath = subdir + os.sep + file\n",
        "\n",
        "    if filepath !=\".ipynb_checkpoints\":\n",
        "      img = PIL.Image.open(filepath).convert(\"L\")\n",
        "\n",
        "      img = np.asarray(img)\n",
        "\n",
        "      X.append(img)\n",
        "      y.append(labeldic[subdir.split(\"/\")[1]])\n"
      ],
      "metadata": {
        "id": "poiN8GHbArvR"
      },
      "execution_count": null,
      "outputs": []
    },
    {
      "cell_type": "code",
      "source": [
        "print(y)\n",
        "len(X)"
      ],
      "metadata": {
        "colab": {
          "base_uri": "https://localhost:8080/"
        },
        "id": "nxkUKuFDEsUZ",
        "outputId": "2fee3170-84bb-4235-a8e0-28460c42173f"
      },
      "execution_count": null,
      "outputs": [
        {
          "output_type": "stream",
          "name": "stdout",
          "text": [
            "[1, 1, 1, 1, 1, 1, 1, 1, 1, 1, 1, 1, 1, 1, 1, 1, 1, 1, 1, 1, 1, 1, 1, 1, 1, 1, 1, 1, 1, 1, 1, 1, 1, 1, 1, 1, 1, 1, 1, 1, 1, 1, 1, 1, 1, 1, 1, 1, 1, 1, 4, 4, 4, 4, 4, 4, 4, 4, 4, 4, 4, 4, 4, 4, 4, 4, 4, 4, 4, 4, 4, 4, 4, 4, 4, 4, 4, 4, 4, 4, 4, 4, 4, 4, 4, 4, 4, 4, 4, 4, 4, 4, 4, 4, 4, 4, 4, 4, 4, 4, 2, 2, 2, 2, 2, 2, 2, 2, 2, 2, 2, 2, 2, 2, 2, 2, 2, 2, 2, 2, 2, 2, 2, 2, 2, 2, 2, 2, 2, 2, 2, 2, 2, 2, 2, 2, 2, 2, 2, 2, 2, 2, 2, 2, 2, 2, 2, 2, 2, 2, 0, 0, 0, 0, 0, 0, 0, 0, 0, 0, 0, 0, 0, 0, 0, 0, 0, 0, 0, 0, 0, 0, 0, 0, 0, 0, 0, 0, 0, 0, 0, 0, 0, 0, 0, 0, 0, 0, 0, 0, 0, 0, 0, 0, 0, 0, 0, 0, 0, 0, 3, 3, 3, 3, 3, 3, 3, 3, 3, 3, 3, 3, 3, 3, 3, 3, 3, 3, 3, 3, 3, 3, 3, 3, 3, 3, 3, 3, 3, 3, 3, 3, 3, 3, 3, 3, 3, 3, 3, 3, 3, 3, 3, 3, 3, 3, 3, 3, 3, 3]\n"
          ]
        },
        {
          "output_type": "execute_result",
          "data": {
            "text/plain": [
              "250"
            ]
          },
          "metadata": {},
          "execution_count": 52
        }
      ]
    },
    {
      "cell_type": "code",
      "source": [
        "import random\n",
        "# select n element for the train dataset\n",
        "\n",
        "list = range(0,len(X))\n",
        "# initializing the value of n\n",
        "n = int(0.8*len(list))\n",
        "\n",
        "# printing n elements from list\n",
        "train_values=random.sample(list, n)\n",
        "\n",
        "X_train=[]\n",
        "y_train=[]\n",
        "\n",
        "X_test=[]\n",
        "y_test=[]\n",
        "\n",
        "for i in range(len(X)):\n",
        "  if i in train_values:\n",
        "    X_train.append(X[i])\n",
        "    y_train.append(y[i])\n",
        "  else:\n",
        "    X_test.append(X[i])\n",
        "    y_test.append(y[i])\n",
        "\n",
        "print(f\"number of X_train {len(X_train)}\")\n",
        "print(f\"number of X_test {len(X_test)}\")"
      ],
      "metadata": {
        "colab": {
          "base_uri": "https://localhost:8080/"
        },
        "id": "7GaeG7k0E21A",
        "outputId": "e8313adc-1e66-49cf-9814-e72235a608f7"
      },
      "execution_count": null,
      "outputs": [
        {
          "output_type": "stream",
          "name": "stdout",
          "text": [
            "number of X_train 200\n",
            "number of X_test 50\n"
          ]
        }
      ]
    },
    {
      "cell_type": "code",
      "source": [
        "# show an image\n",
        "plt.figure(figsize=(3,2))\n",
        "print(y_train[0])\n",
        "plt.imshow(X_train[0],cmap=\"gray\",vmin=0, vmax=255)"
      ],
      "metadata": {
        "colab": {
          "base_uri": "https://localhost:8080/",
          "height": 254
        },
        "id": "uEfTIoY_Imlx",
        "outputId": "77402ae2-7fb8-4bc2-c247-5f791cb9eaa4"
      },
      "execution_count": null,
      "outputs": [
        {
          "output_type": "stream",
          "name": "stdout",
          "text": [
            "1\n"
          ]
        },
        {
          "output_type": "execute_result",
          "data": {
            "text/plain": [
              "<matplotlib.image.AxesImage at 0x7c3f95703370>"
            ]
          },
          "metadata": {},
          "execution_count": 54
        },
        {
          "output_type": "display_data",
          "data": {
            "text/plain": [
              "<Figure size 300x200 with 1 Axes>"
            ],
            "image/png": "[encoded data removed]"
          },
          "metadata": {}
        }
      ]
    },
    {
      "cell_type": "code",
      "source": [
        "from skimage.transform import resize\n",
        "\n",
        "#lower the pixels in images\n",
        "# the reshape pass the values into 0.X values, not need to divide by 255\n",
        "\n",
        "X_train = [resize(image,(28,28)) for image in X_train]\n",
        "X_test = [resize(image,(28,28)) for image in X_test]\n",
        "\n"
      ],
      "metadata": {
        "id": "-0h39buLK8Ep"
      },
      "execution_count": null,
      "outputs": []
    },
    {
      "cell_type": "code",
      "source": [
        "plt.figure(figsize=(3,2))\n",
        "plt.imshow(X_train[0],cmap=\"gray\")"
      ],
      "metadata": {
        "colab": {
          "base_uri": "https://localhost:8080/",
          "height": 234
        },
        "id": "s4o8AJGbOo85",
        "outputId": "7a2ab64b-3e90-466a-853f-88316a0aeafa"
      },
      "execution_count": null,
      "outputs": [
        {
          "output_type": "execute_result",
          "data": {
            "text/plain": [
              "<matplotlib.image.AxesImage at 0x7c3f93d29180>"
            ]
          },
          "metadata": {},
          "execution_count": 65
        },
        {
          "output_type": "display_data",
          "data": {
            "text/plain": [
              "<Figure size 300x200 with 1 Axes>"
            ],
            "image/png": "[encoded data removed]"
          },
          "metadata": {}
        }
      ]
    },
    {
      "cell_type": "code",
      "source": [
        "# pass Xtrain to an array\n",
        "\n",
        "X_train = np.asarray(X_train)\n",
        "X_test = np.asarray(X_test)\n",
        "\n",
        "y_train=np.asarray(y_train)\n",
        "y_test=np.asarray(y_test)"
      ],
      "metadata": {
        "id": "OQV9-EGlZ2iq"
      },
      "execution_count": null,
      "outputs": []
    },
    {
      "cell_type": "code",
      "source": [
        "#Passing the y_train into a one hot encoding\n",
        "from keras import utils\n",
        "\n",
        "Y_train = utils.to_categorical(y_train,len(labeldic))\n",
        "Y_test = utils.to_categorical(y_test,len(labeldic))\n",
        "\n",
        "print(y_train[0],Y_train[0])"
      ],
      "metadata": {
        "colab": {
          "base_uri": "https://localhost:8080/"
        },
        "id": "yIBOGSy9gD0X",
        "outputId": "a87fd01b-acdf-4f46-91b5-aea6ed919006"
      },
      "execution_count": null,
      "outputs": [
        {
          "output_type": "stream",
          "name": "stdout",
          "text": [
            "1 [0. 1. 0. 0. 0.]\n"
          ]
        }
      ]
    },
    {
      "cell_type": "code",
      "source": [
        "# deviding by 255\n",
        "#X_train = X_train/255\n",
        "#X_test = X_test/255"
      ],
      "metadata": {
        "id": "toMWuzs6aqqo"
      },
      "execution_count": null,
      "outputs": []
    },
    {
      "cell_type": "markdown",
      "source": [
        "# Dense model creation"
      ],
      "metadata": {
        "id": "XTOt7zupyyRw"
      }
    },
    {
      "cell_type": "code",
      "source": [
        "X_train.shape"
      ],
      "metadata": {
        "colab": {
          "base_uri": "https://localhost:8080/"
        },
        "id": "TZyD54zVdByT",
        "outputId": "7ee32891-771d-4b16-bb0a-11cd1158e735"
      },
      "execution_count": null,
      "outputs": [
        {
          "output_type": "execute_result",
          "data": {
            "text/plain": [
              "(200, 28, 28)"
            ]
          },
          "metadata": {},
          "execution_count": 67
        }
      ]
    },
    {
      "cell_type": "code",
      "source": [
        "# creating the model\n",
        "\n",
        "from keras import utils\n",
        "from keras.models import Sequential\n",
        "from keras.layers import Dense, Dropout, Activation, Flatten\n",
        "\n",
        "model = Sequential()\n",
        "\n",
        "model.add(Flatten(input_shape=(28,28)))\n",
        "model.add(Dense(64))\n",
        "model.add(Activation(\"relu\"))\n",
        "model.add(Dropout(0.25))\n",
        "\n",
        "model.add(Dense(64))\n",
        "model.add(Activation(\"relu\"))\n",
        "model.add(Dropout(0.25))\n",
        "\n",
        "model.add(Dense(len(labeldic)))\n",
        "model.add(Activation(\"softmax\"))\n",
        "\n",
        "model.compile(loss=\"categorical_crossentropy\",optimizer='adam',metrics=[\"acc\"])\n",
        "\n",
        "print(model.summary())\n",
        "\n"
      ],
      "metadata": {
        "colab": {
          "base_uri": "https://localhost:8080/"
        },
        "id": "E4xiE-IsbAGG",
        "outputId": "c4bcd364-65a6-4039-97b9-54fea80a0e98"
      },
      "execution_count": null,
      "outputs": [
        {
          "output_type": "stream",
          "name": "stdout",
          "text": [
            "Model: \"sequential\"\n",
            "_________________________________________________________________\n",
            " Layer (type)                Output Shape              Param #   \n",
            "=================================================================\n",
            " flatten (Flatten)           (None, 784)               0         \n",
            "                                                                 \n",
            " dense (Dense)               (None, 64)                50240     \n",
            "                                                                 \n",
            " activation (Activation)     (None, 64)                0         \n",
            "                                                                 \n",
            " dropout (Dropout)           (None, 64)                0         \n",
            "                                                                 \n",
            " dense_1 (Dense)             (None, 64)                4160      \n",
            "                                                                 \n",
            " activation_1 (Activation)   (None, 64)                0         \n",
            "                                                                 \n",
            " dropout_1 (Dropout)         (None, 64)                0         \n",
            "                                                                 \n",
            " dense_2 (Dense)             (None, 5)                 325       \n",
            "                                                                 \n",
            " activation_2 (Activation)   (None, 5)                 0         \n",
            "                                                                 \n",
            "=================================================================\n",
            "Total params: 54725 (213.77 KB)\n",
            "Trainable params: 54725 (213.77 KB)\n",
            "Non-trainable params: 0 (0.00 Byte)\n",
            "_________________________________________________________________\n",
            "None\n"
          ]
        }
      ]
    },
    {
      "cell_type": "code",
      "source": [
        "history = model.fit(X_train,Y_train,epochs=200,batch_size=32)"
      ],
      "metadata": {
        "colab": {
          "base_uri": "https://localhost:8080/"
        },
        "collapsed": true,
        "id": "2H3vnT5FeK-3",
        "outputId": "2f5ca9c9-b097-4046-b222-277c90f4b9d2"
      },
      "execution_count": null,
      "outputs": [
        {
          "output_type": "stream",
          "name": "stdout",
          "text": [
            "Epoch 1/200\n",
            "7/7 [==============================] - 4s 9ms/step - loss: 1.6335 - acc: 0.2500\n",
            "Epoch 2/200\n",
            "7/7 [==============================] - 0s 7ms/step - loss: 1.5147 - acc: 0.3300\n",
            "Epoch 3/200\n",
            "7/7 [==============================] - 0s 9ms/step - loss: 1.4679 - acc: 0.3900\n",
            "Epoch 4/200\n",
            "7/7 [==============================] - 0s 10ms/step - loss: 1.3729 - acc: 0.4350\n",
            "Epoch 5/200\n",
            "7/7 [==============================] - 0s 11ms/step - loss: 1.3807 - acc: 0.4150\n",
            "Epoch 6/200\n",
            "7/7 [==============================] - 0s 6ms/step - loss: 1.3238 - acc: 0.4800\n",
            "Epoch 7/200\n",
            "7/7 [==============================] - 0s 7ms/step - loss: 1.2983 - acc: 0.4400\n",
            "Epoch 8/200\n",
            "7/7 [==============================] - 0s 11ms/step - loss: 1.1403 - acc: 0.5700\n",
            "Epoch 9/200\n",
            "7/7 [==============================] - 0s 11ms/step - loss: 1.1296 - acc: 0.5750\n",
            "Epoch 10/200\n",
            "7/7 [==============================] - 0s 11ms/step - loss: 1.0827 - acc: 0.5700\n",
            "Epoch 11/200\n",
            "7/7 [==============================] - 0s 8ms/step - loss: 1.0025 - acc: 0.6300\n",
            "Epoch 12/200\n",
            "7/7 [==============================] - 0s 14ms/step - loss: 1.0018 - acc: 0.6050\n",
            "Epoch 13/200\n",
            "7/7 [==============================] - 0s 12ms/step - loss: 0.8734 - acc: 0.7150\n",
            "Epoch 14/200\n",
            "7/7 [==============================] - 0s 8ms/step - loss: 0.8298 - acc: 0.7100\n",
            "Epoch 15/200\n",
            "7/7 [==============================] - 0s 13ms/step - loss: 0.7786 - acc: 0.7500\n",
            "Epoch 16/200\n",
            "7/7 [==============================] - 0s 7ms/step - loss: 0.8194 - acc: 0.6900\n",
            "Epoch 17/200\n",
            "7/7 [==============================] - 0s 9ms/step - loss: 0.7171 - acc: 0.7250\n",
            "Epoch 18/200\n",
            "7/7 [==============================] - 0s 7ms/step - loss: 0.6606 - acc: 0.7400\n",
            "Epoch 19/200\n",
            "7/7 [==============================] - 0s 7ms/step - loss: 0.6485 - acc: 0.7200\n",
            "Epoch 20/200\n",
            "7/7 [==============================] - 0s 5ms/step - loss: 0.6751 - acc: 0.7600\n",
            "Epoch 21/200\n",
            "7/7 [==============================] - 0s 4ms/step - loss: 0.6274 - acc: 0.7850\n",
            "Epoch 22/200\n",
            "7/7 [==============================] - 0s 11ms/step - loss: 0.5916 - acc: 0.7700\n",
            "Epoch 23/200\n",
            "7/7 [==============================] - 0s 7ms/step - loss: 0.5568 - acc: 0.8000\n",
            "Epoch 24/200\n",
            "7/7 [==============================] - 0s 9ms/step - loss: 0.6204 - acc: 0.7700\n",
            "Epoch 25/200\n",
            "7/7 [==============================] - 0s 7ms/step - loss: 0.5167 - acc: 0.8250\n",
            "Epoch 26/200\n",
            "7/7 [==============================] - 0s 6ms/step - loss: 0.5189 - acc: 0.8250\n",
            "Epoch 27/200\n",
            "7/7 [==============================] - 0s 8ms/step - loss: 0.5045 - acc: 0.8100\n",
            "Epoch 28/200\n",
            "7/7 [==============================] - 0s 7ms/step - loss: 0.4696 - acc: 0.8450\n",
            "Epoch 29/200\n",
            "7/7 [==============================] - 0s 8ms/step - loss: 0.5188 - acc: 0.7950\n",
            "Epoch 30/200\n",
            "7/7 [==============================] - 0s 6ms/step - loss: 0.4427 - acc: 0.8450\n",
            "Epoch 31/200\n",
            "7/7 [==============================] - 0s 5ms/step - loss: 0.5445 - acc: 0.7600\n",
            "Epoch 32/200\n",
            "7/7 [==============================] - 0s 12ms/step - loss: 0.4734 - acc: 0.8250\n",
            "Epoch 33/200\n",
            "7/7 [==============================] - 0s 8ms/step - loss: 0.4514 - acc: 0.8250\n",
            "Epoch 34/200\n",
            "7/7 [==============================] - 0s 7ms/step - loss: 0.4804 - acc: 0.8250\n",
            "Epoch 35/200\n",
            "7/7 [==============================] - 0s 7ms/step - loss: 0.4907 - acc: 0.8300\n",
            "Epoch 36/200\n",
            "7/7 [==============================] - 0s 6ms/step - loss: 0.4362 - acc: 0.8350\n",
            "Epoch 37/200\n",
            "7/7 [==============================] - 0s 7ms/step - loss: 0.4491 - acc: 0.8400\n",
            "Epoch 38/200\n",
            "7/7 [==============================] - 0s 6ms/step - loss: 0.4574 - acc: 0.8350\n",
            "Epoch 39/200\n",
            "7/7 [==============================] - 0s 11ms/step - loss: 0.4585 - acc: 0.7950\n",
            "Epoch 40/200\n",
            "7/7 [==============================] - 0s 6ms/step - loss: 0.4085 - acc: 0.8350\n",
            "Epoch 41/200\n",
            "7/7 [==============================] - 0s 8ms/step - loss: 0.4034 - acc: 0.8550\n",
            "Epoch 42/200\n",
            "7/7 [==============================] - 0s 6ms/step - loss: 0.4011 - acc: 0.8550\n",
            "Epoch 43/200\n",
            "7/7 [==============================] - 0s 5ms/step - loss: 0.4404 - acc: 0.8500\n",
            "Epoch 44/200\n",
            "7/7 [==============================] - 0s 7ms/step - loss: 0.3721 - acc: 0.8600\n",
            "Epoch 45/200\n",
            "7/7 [==============================] - 0s 5ms/step - loss: 0.4259 - acc: 0.8400\n",
            "Epoch 46/200\n",
            "7/7 [==============================] - 0s 5ms/step - loss: 0.4178 - acc: 0.8550\n",
            "Epoch 47/200\n",
            "7/7 [==============================] - 0s 6ms/step - loss: 0.3776 - acc: 0.8700\n",
            "Epoch 48/200\n",
            "7/7 [==============================] - 0s 6ms/step - loss: 0.3720 - acc: 0.8700\n",
            "Epoch 49/200\n",
            "7/7 [==============================] - 0s 6ms/step - loss: 0.3005 - acc: 0.9000\n",
            "Epoch 50/200\n",
            "7/7 [==============================] - 0s 6ms/step - loss: 0.3657 - acc: 0.8700\n",
            "Epoch 51/200\n",
            "7/7 [==============================] - 0s 6ms/step - loss: 0.3604 - acc: 0.8650\n",
            "Epoch 52/200\n",
            "7/7 [==============================] - 0s 6ms/step - loss: 0.3699 - acc: 0.8400\n",
            "Epoch 53/200\n",
            "7/7 [==============================] - 0s 6ms/step - loss: 0.3345 - acc: 0.8750\n",
            "Epoch 54/200\n",
            "7/7 [==============================] - 0s 6ms/step - loss: 0.3225 - acc: 0.8850\n",
            "Epoch 55/200\n",
            "7/7 [==============================] - 0s 6ms/step - loss: 0.3553 - acc: 0.8700\n",
            "Epoch 56/200\n",
            "7/7 [==============================] - 0s 6ms/step - loss: 0.2808 - acc: 0.9100\n",
            "Epoch 57/200\n",
            "7/7 [==============================] - 0s 7ms/step - loss: 0.2998 - acc: 0.9000\n",
            "Epoch 58/200\n",
            "7/7 [==============================] - 0s 6ms/step - loss: 0.3313 - acc: 0.8800\n",
            "Epoch 59/200\n",
            "7/7 [==============================] - 0s 7ms/step - loss: 0.3533 - acc: 0.9000\n",
            "Epoch 60/200\n",
            "7/7 [==============================] - 0s 6ms/step - loss: 0.2863 - acc: 0.9100\n",
            "Epoch 61/200\n",
            "7/7 [==============================] - 0s 9ms/step - loss: 0.3154 - acc: 0.9050\n",
            "Epoch 62/200\n",
            "7/7 [==============================] - 0s 11ms/step - loss: 0.2988 - acc: 0.8900\n",
            "Epoch 63/200\n",
            "7/7 [==============================] - 0s 9ms/step - loss: 0.2747 - acc: 0.9250\n",
            "Epoch 64/200\n",
            "7/7 [==============================] - 0s 6ms/step - loss: 0.2977 - acc: 0.8900\n",
            "Epoch 65/200\n",
            "7/7 [==============================] - 0s 6ms/step - loss: 0.2829 - acc: 0.8900\n",
            "Epoch 66/200\n",
            "7/7 [==============================] - 0s 5ms/step - loss: 0.2701 - acc: 0.9100\n",
            "Epoch 67/200\n",
            "7/7 [==============================] - 0s 6ms/step - loss: 0.2742 - acc: 0.8900\n",
            "Epoch 68/200\n",
            "7/7 [==============================] - 0s 6ms/step - loss: 0.2517 - acc: 0.9000\n",
            "Epoch 69/200\n",
            "7/7 [==============================] - 0s 7ms/step - loss: 0.2710 - acc: 0.9050\n",
            "Epoch 70/200\n",
            "7/7 [==============================] - 0s 6ms/step - loss: 0.2187 - acc: 0.9500\n",
            "Epoch 71/200\n",
            "7/7 [==============================] - 0s 6ms/step - loss: 0.2589 - acc: 0.9100\n",
            "Epoch 72/200\n",
            "7/7 [==============================] - 0s 6ms/step - loss: 0.2670 - acc: 0.9150\n",
            "Epoch 73/200\n",
            "7/7 [==============================] - 0s 6ms/step - loss: 0.2794 - acc: 0.8900\n",
            "Epoch 74/200\n",
            "7/7 [==============================] - 0s 7ms/step - loss: 0.2263 - acc: 0.9300\n",
            "Epoch 75/200\n",
            "7/7 [==============================] - 0s 6ms/step - loss: 0.3177 - acc: 0.8950\n",
            "Epoch 76/200\n",
            "7/7 [==============================] - 0s 7ms/step - loss: 0.2045 - acc: 0.9200\n",
            "Epoch 77/200\n",
            "7/7 [==============================] - 0s 6ms/step - loss: 0.2064 - acc: 0.9350\n",
            "Epoch 78/200\n",
            "7/7 [==============================] - 0s 7ms/step - loss: 0.2056 - acc: 0.9300\n",
            "Epoch 79/200\n",
            "7/7 [==============================] - 0s 7ms/step - loss: 0.2805 - acc: 0.8950\n",
            "Epoch 80/200\n",
            "7/7 [==============================] - 0s 6ms/step - loss: 0.2736 - acc: 0.9000\n",
            "Epoch 81/200\n",
            "7/7 [==============================] - 0s 6ms/step - loss: 0.2792 - acc: 0.8850\n",
            "Epoch 82/200\n",
            "7/7 [==============================] - 0s 7ms/step - loss: 0.2390 - acc: 0.9100\n",
            "Epoch 83/200\n",
            "7/7 [==============================] - 0s 7ms/step - loss: 0.2388 - acc: 0.9150\n",
            "Epoch 84/200\n",
            "7/7 [==============================] - 0s 6ms/step - loss: 0.2075 - acc: 0.9300\n",
            "Epoch 85/200\n",
            "7/7 [==============================] - 0s 6ms/step - loss: 0.2107 - acc: 0.9350\n",
            "Epoch 86/200\n",
            "7/7 [==============================] - 0s 6ms/step - loss: 0.2686 - acc: 0.9150\n",
            "Epoch 87/200\n",
            "7/7 [==============================] - 0s 7ms/step - loss: 0.2299 - acc: 0.9250\n",
            "Epoch 88/200\n",
            "7/7 [==============================] - 0s 6ms/step - loss: 0.2249 - acc: 0.9200\n",
            "Epoch 89/200\n",
            "7/7 [==============================] - 0s 6ms/step - loss: 0.2174 - acc: 0.9250\n",
            "Epoch 90/200\n",
            "7/7 [==============================] - 0s 6ms/step - loss: 0.1660 - acc: 0.9550\n",
            "Epoch 91/200\n",
            "7/7 [==============================] - 0s 7ms/step - loss: 0.1845 - acc: 0.9150\n",
            "Epoch 92/200\n",
            "7/7 [==============================] - 0s 6ms/step - loss: 0.1767 - acc: 0.9500\n",
            "Epoch 93/200\n",
            "7/7 [==============================] - 0s 7ms/step - loss: 0.2018 - acc: 0.9300\n",
            "Epoch 94/200\n",
            "7/7 [==============================] - 0s 7ms/step - loss: 0.1926 - acc: 0.9300\n",
            "Epoch 95/200\n",
            "7/7 [==============================] - 0s 11ms/step - loss: 0.1787 - acc: 0.9400\n",
            "Epoch 96/200\n",
            "7/7 [==============================] - 0s 8ms/step - loss: 0.2115 - acc: 0.9500\n",
            "Epoch 97/200\n",
            "7/7 [==============================] - 0s 7ms/step - loss: 0.2564 - acc: 0.8950\n",
            "Epoch 98/200\n",
            "7/7 [==============================] - 0s 7ms/step - loss: 0.2140 - acc: 0.9400\n",
            "Epoch 99/200\n",
            "7/7 [==============================] - 0s 6ms/step - loss: 0.2228 - acc: 0.9150\n",
            "Epoch 100/200\n",
            "7/7 [==============================] - 0s 11ms/step - loss: 0.1704 - acc: 0.9400\n",
            "Epoch 101/200\n",
            "7/7 [==============================] - 0s 7ms/step - loss: 0.2016 - acc: 0.9250\n",
            "Epoch 102/200\n",
            "7/7 [==============================] - 0s 8ms/step - loss: 0.1757 - acc: 0.9350\n",
            "Epoch 103/200\n",
            "7/7 [==============================] - 0s 8ms/step - loss: 0.2059 - acc: 0.9300\n",
            "Epoch 104/200\n",
            "7/7 [==============================] - 0s 8ms/step - loss: 0.2382 - acc: 0.8950\n",
            "Epoch 105/200\n",
            "7/7 [==============================] - 0s 7ms/step - loss: 0.2731 - acc: 0.8850\n",
            "Epoch 106/200\n",
            "7/7 [==============================] - 0s 8ms/step - loss: 0.2544 - acc: 0.9150\n",
            "Epoch 107/200\n",
            "7/7 [==============================] - 0s 8ms/step - loss: 0.2061 - acc: 0.9200\n",
            "Epoch 108/200\n",
            "7/7 [==============================] - 0s 7ms/step - loss: 0.2242 - acc: 0.9250\n",
            "Epoch 109/200\n",
            "7/7 [==============================] - 0s 6ms/step - loss: 0.2434 - acc: 0.8900\n",
            "Epoch 110/200\n",
            "7/7 [==============================] - 0s 6ms/step - loss: 0.1894 - acc: 0.9300\n",
            "Epoch 111/200\n",
            "7/7 [==============================] - 0s 6ms/step - loss: 0.1890 - acc: 0.9350\n",
            "Epoch 112/200\n",
            "7/7 [==============================] - 0s 6ms/step - loss: 0.2611 - acc: 0.9000\n",
            "Epoch 113/200\n",
            "7/7 [==============================] - 0s 7ms/step - loss: 0.2329 - acc: 0.9100\n",
            "Epoch 114/200\n",
            "7/7 [==============================] - 0s 7ms/step - loss: 0.2319 - acc: 0.8900\n",
            "Epoch 115/200\n",
            "7/7 [==============================] - 0s 8ms/step - loss: 0.2086 - acc: 0.9200\n",
            "Epoch 116/200\n",
            "7/7 [==============================] - 0s 8ms/step - loss: 0.2148 - acc: 0.9200\n",
            "Epoch 117/200\n",
            "7/7 [==============================] - 0s 6ms/step - loss: 0.2267 - acc: 0.9200\n",
            "Epoch 118/200\n",
            "7/7 [==============================] - 0s 7ms/step - loss: 0.1715 - acc: 0.9450\n",
            "Epoch 119/200\n",
            "7/7 [==============================] - 0s 8ms/step - loss: 0.1386 - acc: 0.9600\n",
            "Epoch 120/200\n",
            "7/7 [==============================] - 0s 6ms/step - loss: 0.1514 - acc: 0.9650\n",
            "Epoch 121/200\n",
            "7/7 [==============================] - 0s 7ms/step - loss: 0.1024 - acc: 0.9550\n",
            "Epoch 122/200\n",
            "7/7 [==============================] - 0s 7ms/step - loss: 0.1556 - acc: 0.9350\n",
            "Epoch 123/200\n",
            "7/7 [==============================] - 0s 7ms/step - loss: 0.1264 - acc: 0.9800\n",
            "Epoch 124/200\n",
            "7/7 [==============================] - 0s 6ms/step - loss: 0.1299 - acc: 0.9500\n",
            "Epoch 125/200\n",
            "7/7 [==============================] - 0s 6ms/step - loss: 0.1649 - acc: 0.9400\n",
            "Epoch 126/200\n",
            "7/7 [==============================] - 0s 6ms/step - loss: 0.1717 - acc: 0.9350\n",
            "Epoch 127/200\n",
            "7/7 [==============================] - 0s 7ms/step - loss: 0.1395 - acc: 0.9550\n",
            "Epoch 128/200\n",
            "7/7 [==============================] - 0s 7ms/step - loss: 0.2422 - acc: 0.9150\n",
            "Epoch 129/200\n",
            "7/7 [==============================] - 0s 6ms/step - loss: 0.1562 - acc: 0.9400\n",
            "Epoch 130/200\n",
            "7/7 [==============================] - 0s 6ms/step - loss: 0.1630 - acc: 0.9450\n",
            "Epoch 131/200\n",
            "7/7 [==============================] - 0s 7ms/step - loss: 0.1563 - acc: 0.9500\n",
            "Epoch 132/200\n",
            "7/7 [==============================] - 0s 6ms/step - loss: 0.1724 - acc: 0.9300\n",
            "Epoch 133/200\n",
            "7/7 [==============================] - 0s 7ms/step - loss: 0.1581 - acc: 0.9550\n",
            "Epoch 134/200\n",
            "7/7 [==============================] - 0s 10ms/step - loss: 0.1891 - acc: 0.9150\n",
            "Epoch 135/200\n",
            "7/7 [==============================] - 0s 7ms/step - loss: 0.1401 - acc: 0.9550\n",
            "Epoch 136/200\n",
            "7/7 [==============================] - 0s 7ms/step - loss: 0.1292 - acc: 0.9450\n",
            "Epoch 137/200\n",
            "7/7 [==============================] - 0s 6ms/step - loss: 0.1286 - acc: 0.9400\n",
            "Epoch 138/200\n",
            "7/7 [==============================] - 0s 6ms/step - loss: 0.1459 - acc: 0.9500\n",
            "Epoch 139/200\n",
            "7/7 [==============================] - 0s 6ms/step - loss: 0.1652 - acc: 0.9350\n",
            "Epoch 140/200\n",
            "7/7 [==============================] - 0s 7ms/step - loss: 0.1299 - acc: 0.9550\n",
            "Epoch 141/200\n",
            "7/7 [==============================] - 0s 6ms/step - loss: 0.1343 - acc: 0.9550\n",
            "Epoch 142/200\n",
            "7/7 [==============================] - 0s 6ms/step - loss: 0.1926 - acc: 0.9450\n",
            "Epoch 143/200\n",
            "7/7 [==============================] - 0s 6ms/step - loss: 0.1306 - acc: 0.9650\n",
            "Epoch 144/200\n",
            "7/7 [==============================] - 0s 6ms/step - loss: 0.1732 - acc: 0.9350\n",
            "Epoch 145/200\n",
            "7/7 [==============================] - 0s 4ms/step - loss: 0.1679 - acc: 0.9650\n",
            "Epoch 146/200\n",
            "7/7 [==============================] - 0s 4ms/step - loss: 0.1437 - acc: 0.9500\n",
            "Epoch 147/200\n",
            "7/7 [==============================] - 0s 4ms/step - loss: 0.1324 - acc: 0.9500\n",
            "Epoch 148/200\n",
            "7/7 [==============================] - 0s 4ms/step - loss: 0.1301 - acc: 0.9750\n",
            "Epoch 149/200\n",
            "7/7 [==============================] - 0s 4ms/step - loss: 0.1579 - acc: 0.9450\n",
            "Epoch 150/200\n",
            "7/7 [==============================] - 0s 6ms/step - loss: 0.1448 - acc: 0.9400\n",
            "Epoch 151/200\n",
            "7/7 [==============================] - 0s 6ms/step - loss: 0.1391 - acc: 0.9450\n",
            "Epoch 152/200\n",
            "7/7 [==============================] - 0s 5ms/step - loss: 0.1286 - acc: 0.9400\n",
            "Epoch 153/200\n",
            "7/7 [==============================] - 0s 10ms/step - loss: 0.1282 - acc: 0.9700\n",
            "Epoch 154/200\n",
            "7/7 [==============================] - 0s 12ms/step - loss: 0.1757 - acc: 0.9250\n",
            "Epoch 155/200\n",
            "7/7 [==============================] - 0s 8ms/step - loss: 0.1469 - acc: 0.9450\n",
            "Epoch 156/200\n",
            "7/7 [==============================] - 0s 7ms/step - loss: 0.1369 - acc: 0.9500\n",
            "Epoch 157/200\n",
            "7/7 [==============================] - 0s 8ms/step - loss: 0.1321 - acc: 0.9650\n",
            "Epoch 158/200\n",
            "7/7 [==============================] - 0s 6ms/step - loss: 0.1365 - acc: 0.9600\n",
            "Epoch 159/200\n",
            "7/7 [==============================] - 0s 6ms/step - loss: 0.1225 - acc: 0.9600\n",
            "Epoch 160/200\n",
            "7/7 [==============================] - 0s 6ms/step - loss: 0.1369 - acc: 0.9550\n",
            "Epoch 161/200\n",
            "7/7 [==============================] - 0s 12ms/step - loss: 0.1510 - acc: 0.9500\n",
            "Epoch 162/200\n",
            "7/7 [==============================] - 0s 9ms/step - loss: 0.1370 - acc: 0.9550\n",
            "Epoch 163/200\n",
            "7/7 [==============================] - 0s 9ms/step - loss: 0.1339 - acc: 0.9500\n",
            "Epoch 164/200\n",
            "7/7 [==============================] - 0s 8ms/step - loss: 0.1348 - acc: 0.9500\n",
            "Epoch 165/200\n",
            "7/7 [==============================] - 0s 7ms/step - loss: 0.1615 - acc: 0.9600\n",
            "Epoch 166/200\n",
            "7/7 [==============================] - 0s 11ms/step - loss: 0.1000 - acc: 0.9650\n",
            "Epoch 167/200\n",
            "7/7 [==============================] - 0s 8ms/step - loss: 0.1219 - acc: 0.9650\n",
            "Epoch 168/200\n",
            "7/7 [==============================] - 0s 7ms/step - loss: 0.1042 - acc: 0.9700\n",
            "Epoch 169/200\n",
            "7/7 [==============================] - 0s 7ms/step - loss: 0.1164 - acc: 0.9550\n",
            "Epoch 170/200\n",
            "7/7 [==============================] - 0s 10ms/step - loss: 0.1233 - acc: 0.9600\n",
            "Epoch 171/200\n",
            "7/7 [==============================] - 0s 8ms/step - loss: 0.1232 - acc: 0.9550\n",
            "Epoch 172/200\n",
            "7/7 [==============================] - 0s 8ms/step - loss: 0.1114 - acc: 0.9700\n",
            "Epoch 173/200\n",
            "7/7 [==============================] - 0s 7ms/step - loss: 0.1026 - acc: 0.9650\n",
            "Epoch 174/200\n",
            "7/7 [==============================] - 0s 8ms/step - loss: 0.1389 - acc: 0.9450\n",
            "Epoch 175/200\n",
            "7/7 [==============================] - 0s 8ms/step - loss: 0.1892 - acc: 0.9350\n",
            "Epoch 176/200\n",
            "7/7 [==============================] - 0s 8ms/step - loss: 0.1829 - acc: 0.9250\n",
            "Epoch 177/200\n",
            "7/7 [==============================] - 0s 7ms/step - loss: 0.1798 - acc: 0.9300\n",
            "Epoch 178/200\n",
            "7/7 [==============================] - 0s 6ms/step - loss: 0.1621 - acc: 0.9300\n",
            "Epoch 179/200\n",
            "7/7 [==============================] - 0s 6ms/step - loss: 0.1487 - acc: 0.9450\n",
            "Epoch 180/200\n",
            "7/7 [==============================] - 0s 7ms/step - loss: 0.1214 - acc: 0.9650\n",
            "Epoch 181/200\n",
            "7/7 [==============================] - 0s 6ms/step - loss: 0.0988 - acc: 0.9700\n",
            "Epoch 182/200\n",
            "7/7 [==============================] - 0s 7ms/step - loss: 0.1164 - acc: 0.9600\n",
            "Epoch 183/200\n",
            "7/7 [==============================] - 0s 8ms/step - loss: 0.0847 - acc: 0.9600\n",
            "Epoch 184/200\n",
            "7/7 [==============================] - 0s 7ms/step - loss: 0.1521 - acc: 0.9300\n",
            "Epoch 185/200\n",
            "7/7 [==============================] - 0s 7ms/step - loss: 0.1389 - acc: 0.9500\n",
            "Epoch 186/200\n",
            "7/7 [==============================] - 0s 6ms/step - loss: 0.1395 - acc: 0.9500\n",
            "Epoch 187/200\n",
            "7/7 [==============================] - 0s 7ms/step - loss: 0.1085 - acc: 0.9700\n",
            "Epoch 188/200\n",
            "7/7 [==============================] - 0s 8ms/step - loss: 0.0757 - acc: 0.9850\n",
            "Epoch 189/200\n",
            "7/7 [==============================] - 0s 7ms/step - loss: 0.1068 - acc: 0.9650\n",
            "Epoch 190/200\n",
            "7/7 [==============================] - 0s 7ms/step - loss: 0.1097 - acc: 0.9600\n",
            "Epoch 191/200\n",
            "7/7 [==============================] - 0s 7ms/step - loss: 0.1495 - acc: 0.9450\n",
            "Epoch 192/200\n",
            "7/7 [==============================] - 0s 7ms/step - loss: 0.0885 - acc: 0.9800\n",
            "Epoch 193/200\n",
            "7/7 [==============================] - 0s 6ms/step - loss: 0.1024 - acc: 0.9500\n",
            "Epoch 194/200\n",
            "7/7 [==============================] - 0s 8ms/step - loss: 0.1574 - acc: 0.9400\n",
            "Epoch 195/200\n",
            "7/7 [==============================] - 0s 10ms/step - loss: 0.1499 - acc: 0.9500\n",
            "Epoch 196/200\n",
            "7/7 [==============================] - 0s 7ms/step - loss: 0.1675 - acc: 0.9500\n",
            "Epoch 197/200\n",
            "7/7 [==============================] - 0s 6ms/step - loss: 0.1135 - acc: 0.9650\n",
            "Epoch 198/200\n",
            "7/7 [==============================] - 0s 6ms/step - loss: 0.0964 - acc: 0.9600\n",
            "Epoch 199/200\n",
            "7/7 [==============================] - 0s 5ms/step - loss: 0.1333 - acc: 0.9550\n",
            "Epoch 200/200\n",
            "7/7 [==============================] - 0s 8ms/step - loss: 0.0904 - acc: 0.9650\n"
          ]
        }
      ]
    },
    {
      "cell_type": "code",
      "source": [
        "# plot the graphs\n",
        "plt.figure(figsize=(3,2))\n",
        "\n",
        "loss = history.history[\"loss\"]\n",
        "acc = history.history[\"acc\"]\n",
        "\n",
        "epocs = range(1,len(loss)+1)\n",
        "\n",
        "plt.plot(epocs,loss,marker=\".\",label=\"loss\")\n",
        "plt.plot(epocs,acc,marker=\".\",label=\"acc\")\n",
        "plt.title('Training and validation accuracy')\n",
        "plt.legend()\n"
      ],
      "metadata": {
        "colab": {
          "base_uri": "https://localhost:8080/",
          "height": 254
        },
        "id": "wagSLKl-exzF",
        "outputId": "2d3d12af-7ea6-4582-cd1f-0d60e04e6bef"
      },
      "execution_count": null,
      "outputs": [
        {
          "output_type": "execute_result",
          "data": {
            "text/plain": [
              "<matplotlib.legend.Legend at 0x7c3f83fd2fe0>"
            ]
          },
          "metadata": {},
          "execution_count": 70
        },
        {
          "output_type": "display_data",
          "data": {
            "text/plain": [
              "<Figure size 300x200 with 1 Axes>"
            ],
            "image/png": "[encoded data removed]"
          },
          "metadata": {}
        }
      ]
    },
    {
      "cell_type": "code",
      "source": [
        "# confusion matrics\n",
        "\n",
        "from sklearn.metrics import confusion_matrix\n",
        "\n",
        "predictions = model.predict(X_test)\n",
        "Y_pred = np.argmax(predictions,axis=1)\n",
        "\n",
        "cm = confusion_matrix(y_test,Y_pred)\n",
        "cm = np.transpose(cm)\n",
        "cm"
      ],
      "metadata": {
        "colab": {
          "base_uri": "https://localhost:8080/"
        },
        "collapsed": true,
        "id": "9tzFuCNIeGVo",
        "outputId": "b26b4743-1ec7-479c-b791-57b38e423868"
      },
      "execution_count": null,
      "outputs": [
        {
          "output_type": "stream",
          "name": "stdout",
          "text": [
            "2/2 [==============================] - 0s 6ms/step\n"
          ]
        },
        {
          "output_type": "execute_result",
          "data": {
            "text/plain": [
              "array([[ 9,  0,  0,  0,  0],\n",
              "       [ 0,  9,  0,  0,  1],\n",
              "       [ 0,  0,  5,  0,  0],\n",
              "       [ 0,  0,  0, 13,  0],\n",
              "       [ 0,  0,  1,  0, 12]])"
            ]
          },
          "metadata": {},
          "execution_count": 71
        }
      ]
    },
    {
      "cell_type": "code",
      "source": [
        "# plot\n",
        "\n",
        "random_values=random.sample(range(0,len(X_test)), 10)\n",
        "print(random_values)\n",
        "\n",
        "plt.figure(figsize=(8,4))\n",
        "\n",
        "\n",
        "for i,value in enumerate(random_values):\n",
        "  plt.subplot(2,5,i+1)\n",
        "\n",
        "  prediction = labels[np.argmax(predictions[value])]\n",
        "  real = labels[y_test[value]]\n",
        "\n",
        "  if prediction==real:\n",
        "    color=\"blue\"\n",
        "  else:\n",
        "    color=\"red\"\n",
        "\n",
        "  plt.imshow(X_test[value])\n",
        "  plt.xlabel(f\"is {real},pred as \\n{prediction}\",color=color)\n",
        "\n",
        "\n"
      ],
      "metadata": {
        "colab": {
          "base_uri": "https://localhost:8080/",
          "height": 391
        },
        "id": "Pwxrr1g-nkod",
        "outputId": "42f94627-f2f3-43fa-e55f-32b0ec9254df"
      },
      "execution_count": null,
      "outputs": [
        {
          "output_type": "stream",
          "name": "stdout",
          "text": [
            "[30, 45, 3, 38, 10, 17, 16, 8, 5, 19]\n"
          ]
        },
        {
          "output_type": "display_data",
          "data": {
            "text/plain": [
              "<Figure size 800x400 with 10 Axes>"
            ],
            "image/png": "[encoded data removed]"
          },
          "metadata": {}
        }
      ]
    },
    {
      "cell_type": "code",
      "source": [
        "#evaluate\n",
        "score = model.evaluate(X_test, Y_test)\n",
        "print(\"Test loss:\", score[0])\n",
        "print(\"Test accuracy:\", score[1])"
      ],
      "metadata": {
        "colab": {
          "base_uri": "https://localhost:8080/"
        },
        "id": "oHGTkwnDuhLi",
        "outputId": "a3ba2f18-d09a-4d74-9e68-2f2f669d0421"
      },
      "execution_count": null,
      "outputs": [
        {
          "output_type": "stream",
          "name": "stdout",
          "text": [
            "2/2 [==============================] - 0s 10ms/step - loss: 0.1268 - acc: 0.9600\n",
            "Test loss: 0.1268373429775238\n",
            "Test accuracy: 0.9599999785423279\n"
          ]
        }
      ]
    },
    {
      "cell_type": "markdown",
      "source": [
        "# Test with a Conv2d"
      ],
      "metadata": {
        "id": "hVaLhjzE9I_s"
      }
    },
    {
      "cell_type": "code",
      "source": [
        "X_train = X_train.reshape(-1,28,28,1)"
      ],
      "metadata": {
        "id": "SC_9jv9FtwYz"
      },
      "execution_count": null,
      "outputs": []
    },
    {
      "cell_type": "code",
      "source": [
        "X_train.shape"
      ],
      "metadata": {
        "colab": {
          "base_uri": "https://localhost:8080/"
        },
        "id": "_uLNeKmAudke",
        "outputId": "f20c435f-5ef9-4f98-db0d-a6d2b050d4cd"
      },
      "execution_count": null,
      "outputs": [
        {
          "output_type": "execute_result",
          "data": {
            "text/plain": [
              "(200, 28, 28, 1)"
            ]
          },
          "metadata": {},
          "execution_count": 75
        }
      ]
    },
    {
      "cell_type": "code",
      "source": [
        "# creating the model\n",
        "\n",
        "from keras import utils\n",
        "from keras.models import Sequential\n",
        "from keras.layers import Dense, Dropout, Activation, Flatten, Conv2D, MaxPooling2D\n",
        "\n",
        "model = Sequential()\n",
        "\n",
        "model.add(Conv2D(4, kernel_size=(3,3), strides=1, padding=\"same\", activation=\"relu\")) #input_shape (28,28)\n",
        "model.add(MaxPooling2D(pool_size=(2,2), strides=2,padding=\"same\")) #input_shape= (28,28,4)\n",
        "\n",
        "model.add(Conv2D(2, kernel_size=(3,3), strides=1, padding=\"same\", activation=\"relu\")) #input_shape=(14,14,4)\n",
        "model.add(MaxPooling2D(pool_size=(2,2), strides=2,padding=\"same\")) #input_shape= (14,14,2)\n",
        "\n",
        "model.add(Flatten()) #input_shape (7,7,2)\n",
        "\n",
        "model.add(Dense(5,activation='softmax'))\n",
        "\n",
        "\n",
        "model.compile(loss=\"categorical_crossentropy\",optimizer='adam',metrics=[\"acc\"])\n"
      ],
      "metadata": {
        "id": "4c9hcPrX9IbT",
        "collapsed": true
      },
      "execution_count": null,
      "outputs": []
    },
    {
      "cell_type": "code",
      "source": [
        "history = model.fit(X_train,Y_train,epochs=200,batch_size=32)"
      ],
      "metadata": {
        "colab": {
          "base_uri": "https://localhost:8080/"
        },
        "collapsed": true,
        "id": "sWHQEqJ5nBJG",
        "outputId": "2c6eaba2-77ed-4a8e-c5bc-9a976101b64c"
      },
      "execution_count": null,
      "outputs": [
        {
          "output_type": "stream",
          "name": "stdout",
          "text": [
            "Epoch 1/200\n",
            "7/7 [==============================] - 2s 22ms/step - loss: 1.6222 - acc: 0.2200\n",
            "Epoch 2/200\n",
            "7/7 [==============================] - 0s 19ms/step - loss: 1.6126 - acc: 0.2200\n",
            "Epoch 3/200\n",
            "7/7 [==============================] - 0s 22ms/step - loss: 1.6042 - acc: 0.2200\n",
            "Epoch 4/200\n",
            "7/7 [==============================] - 0s 19ms/step - loss: 1.5940 - acc: 0.2200\n",
            "Epoch 5/200\n",
            "7/7 [==============================] - 0s 21ms/step - loss: 1.5868 - acc: 0.2200\n",
            "Epoch 6/200\n",
            "7/7 [==============================] - 0s 18ms/step - loss: 1.5822 - acc: 0.2300\n",
            "Epoch 7/200\n",
            "7/7 [==============================] - 0s 19ms/step - loss: 1.5764 - acc: 0.2450\n",
            "Epoch 8/200\n",
            "7/7 [==============================] - 0s 18ms/step - loss: 1.5706 - acc: 0.2450\n",
            "Epoch 9/200\n",
            "7/7 [==============================] - 0s 18ms/step - loss: 1.5646 - acc: 0.2500\n",
            "Epoch 10/200\n",
            "7/7 [==============================] - 0s 21ms/step - loss: 1.5573 - acc: 0.2600\n",
            "Epoch 11/200\n",
            "7/7 [==============================] - 0s 19ms/step - loss: 1.5473 - acc: 0.2950\n",
            "Epoch 12/200\n",
            "7/7 [==============================] - 0s 23ms/step - loss: 1.5366 - acc: 0.3100\n",
            "Epoch 13/200\n",
            "7/7 [==============================] - 0s 19ms/step - loss: 1.5239 - acc: 0.3250\n",
            "Epoch 14/200\n",
            "7/7 [==============================] - 0s 20ms/step - loss: 1.5084 - acc: 0.3650\n",
            "Epoch 15/200\n",
            "7/7 [==============================] - 0s 19ms/step - loss: 1.4911 - acc: 0.5000\n",
            "Epoch 16/200\n",
            "7/7 [==============================] - 0s 20ms/step - loss: 1.4712 - acc: 0.5150\n",
            "Epoch 17/200\n",
            "7/7 [==============================] - 0s 20ms/step - loss: 1.4471 - acc: 0.5250\n",
            "Epoch 18/200\n",
            "7/7 [==============================] - 0s 20ms/step - loss: 1.4235 - acc: 0.6450\n",
            "Epoch 19/200\n",
            "7/7 [==============================] - 0s 23ms/step - loss: 1.3954 - acc: 0.6900\n",
            "Epoch 20/200\n",
            "7/7 [==============================] - 0s 19ms/step - loss: 1.3662 - acc: 0.6750\n",
            "Epoch 21/200\n",
            "7/7 [==============================] - 0s 18ms/step - loss: 1.3280 - acc: 0.6950\n",
            "Epoch 22/200\n",
            "7/7 [==============================] - 0s 18ms/step - loss: 1.2880 - acc: 0.7250\n",
            "Epoch 23/200\n",
            "7/7 [==============================] - 0s 17ms/step - loss: 1.2545 - acc: 0.6500\n",
            "Epoch 24/200\n",
            "7/7 [==============================] - 0s 13ms/step - loss: 1.2045 - acc: 0.6950\n",
            "Epoch 25/200\n",
            "7/7 [==============================] - 0s 12ms/step - loss: 1.1662 - acc: 0.6700\n",
            "Epoch 26/200\n",
            "7/7 [==============================] - 0s 13ms/step - loss: 1.1159 - acc: 0.7050\n",
            "Epoch 27/200\n",
            "7/7 [==============================] - 0s 12ms/step - loss: 1.0726 - acc: 0.7600\n",
            "Epoch 28/200\n",
            "7/7 [==============================] - 0s 14ms/step - loss: 1.0367 - acc: 0.7000\n",
            "Epoch 29/200\n",
            "7/7 [==============================] - 0s 11ms/step - loss: 0.9816 - acc: 0.7050\n",
            "Epoch 30/200\n",
            "7/7 [==============================] - 0s 12ms/step - loss: 0.9349 - acc: 0.7500\n",
            "Epoch 31/200\n",
            "7/7 [==============================] - 0s 11ms/step - loss: 0.9008 - acc: 0.7550\n",
            "Epoch 32/200\n",
            "7/7 [==============================] - 0s 11ms/step - loss: 0.8559 - acc: 0.7700\n",
            "Epoch 33/200\n",
            "7/7 [==============================] - 0s 12ms/step - loss: 0.8267 - acc: 0.7750\n",
            "Epoch 34/200\n",
            "7/7 [==============================] - 0s 12ms/step - loss: 0.8063 - acc: 0.7300\n",
            "Epoch 35/200\n",
            "7/7 [==============================] - 0s 12ms/step - loss: 0.7616 - acc: 0.8000\n",
            "Epoch 36/200\n",
            "7/7 [==============================] - 0s 12ms/step - loss: 0.7558 - acc: 0.7500\n",
            "Epoch 37/200\n",
            "7/7 [==============================] - 0s 13ms/step - loss: 0.7256 - acc: 0.7800\n",
            "Epoch 38/200\n",
            "7/7 [==============================] - 0s 15ms/step - loss: 0.6920 - acc: 0.7600\n",
            "Epoch 39/200\n",
            "7/7 [==============================] - 0s 15ms/step - loss: 0.6746 - acc: 0.7950\n",
            "Epoch 40/200\n",
            "7/7 [==============================] - 0s 13ms/step - loss: 0.6599 - acc: 0.7850\n",
            "Epoch 41/200\n",
            "7/7 [==============================] - 0s 13ms/step - loss: 0.6363 - acc: 0.7900\n",
            "Epoch 42/200\n",
            "7/7 [==============================] - 0s 18ms/step - loss: 0.6248 - acc: 0.8150\n",
            "Epoch 43/200\n",
            "7/7 [==============================] - 0s 13ms/step - loss: 0.6154 - acc: 0.7850\n",
            "Epoch 44/200\n",
            "7/7 [==============================] - 0s 12ms/step - loss: 0.6087 - acc: 0.8100\n",
            "Epoch 45/200\n",
            "7/7 [==============================] - 0s 14ms/step - loss: 0.5886 - acc: 0.8300\n",
            "Epoch 46/200\n",
            "7/7 [==============================] - 0s 14ms/step - loss: 0.5826 - acc: 0.8150\n",
            "Epoch 47/200\n",
            "7/7 [==============================] - 0s 13ms/step - loss: 0.5633 - acc: 0.8200\n",
            "Epoch 48/200\n",
            "7/7 [==============================] - 0s 13ms/step - loss: 0.5453 - acc: 0.8350\n",
            "Epoch 49/200\n",
            "7/7 [==============================] - 0s 15ms/step - loss: 0.5376 - acc: 0.8150\n",
            "Epoch 50/200\n",
            "7/7 [==============================] - 0s 14ms/step - loss: 0.5305 - acc: 0.8150\n",
            "Epoch 51/200\n",
            "7/7 [==============================] - 0s 14ms/step - loss: 0.5459 - acc: 0.8300\n",
            "Epoch 52/200\n",
            "7/7 [==============================] - 0s 13ms/step - loss: 0.5182 - acc: 0.8250\n",
            "Epoch 53/200\n",
            "7/7 [==============================] - 0s 13ms/step - loss: 0.5180 - acc: 0.8200\n",
            "Epoch 54/200\n",
            "7/7 [==============================] - 0s 13ms/step - loss: 0.4925 - acc: 0.8550\n",
            "Epoch 55/200\n",
            "7/7 [==============================] - 0s 13ms/step - loss: 0.5106 - acc: 0.8050\n",
            "Epoch 56/200\n",
            "7/7 [==============================] - 0s 14ms/step - loss: 0.4974 - acc: 0.8350\n",
            "Epoch 57/200\n",
            "7/7 [==============================] - 0s 12ms/step - loss: 0.4988 - acc: 0.8350\n",
            "Epoch 58/200\n",
            "7/7 [==============================] - 0s 12ms/step - loss: 0.4764 - acc: 0.8250\n",
            "Epoch 59/200\n",
            "7/7 [==============================] - 0s 15ms/step - loss: 0.4991 - acc: 0.8400\n",
            "Epoch 60/200\n",
            "7/7 [==============================] - 0s 12ms/step - loss: 0.4604 - acc: 0.8400\n",
            "Epoch 61/200\n",
            "7/7 [==============================] - 0s 13ms/step - loss: 0.4649 - acc: 0.8150\n",
            "Epoch 62/200\n",
            "7/7 [==============================] - 0s 12ms/step - loss: 0.4531 - acc: 0.8600\n",
            "Epoch 63/200\n",
            "7/7 [==============================] - 0s 12ms/step - loss: 0.4565 - acc: 0.8300\n",
            "Epoch 64/200\n",
            "7/7 [==============================] - 0s 12ms/step - loss: 0.4395 - acc: 0.8550\n",
            "Epoch 65/200\n",
            "7/7 [==============================] - 0s 13ms/step - loss: 0.4298 - acc: 0.8800\n",
            "Epoch 66/200\n",
            "7/7 [==============================] - 0s 12ms/step - loss: 0.4245 - acc: 0.8700\n",
            "Epoch 67/200\n",
            "7/7 [==============================] - 0s 13ms/step - loss: 0.4221 - acc: 0.8650\n",
            "Epoch 68/200\n",
            "7/7 [==============================] - 0s 13ms/step - loss: 0.4159 - acc: 0.8550\n",
            "Epoch 69/200\n",
            "7/7 [==============================] - 0s 15ms/step - loss: 0.4168 - acc: 0.8800\n",
            "Epoch 70/200\n",
            "7/7 [==============================] - 0s 15ms/step - loss: 0.4104 - acc: 0.8600\n",
            "Epoch 71/200\n",
            "7/7 [==============================] - 0s 13ms/step - loss: 0.4032 - acc: 0.8850\n",
            "Epoch 72/200\n",
            "7/7 [==============================] - 0s 13ms/step - loss: 0.4014 - acc: 0.8800\n",
            "Epoch 73/200\n",
            "7/7 [==============================] - 0s 14ms/step - loss: 0.3934 - acc: 0.8700\n",
            "Epoch 74/200\n",
            "7/7 [==============================] - 0s 13ms/step - loss: 0.4269 - acc: 0.8650\n",
            "Epoch 75/200\n",
            "7/7 [==============================] - 0s 13ms/step - loss: 0.4097 - acc: 0.8400\n",
            "Epoch 76/200\n",
            "7/7 [==============================] - 0s 12ms/step - loss: 0.3973 - acc: 0.8600\n",
            "Epoch 77/200\n",
            "7/7 [==============================] - 0s 12ms/step - loss: 0.4039 - acc: 0.8750\n",
            "Epoch 78/200\n",
            "7/7 [==============================] - 0s 11ms/step - loss: 0.4030 - acc: 0.8550\n",
            "Epoch 79/200\n",
            "7/7 [==============================] - 0s 12ms/step - loss: 0.3793 - acc: 0.8800\n",
            "Epoch 80/200\n",
            "7/7 [==============================] - 0s 14ms/step - loss: 0.3876 - acc: 0.8850\n",
            "Epoch 81/200\n",
            "7/7 [==============================] - 0s 12ms/step - loss: 0.3719 - acc: 0.8800\n",
            "Epoch 82/200\n",
            "7/7 [==============================] - 0s 11ms/step - loss: 0.3791 - acc: 0.8750\n",
            "Epoch 83/200\n",
            "7/7 [==============================] - 0s 12ms/step - loss: 0.3767 - acc: 0.8900\n",
            "Epoch 84/200\n",
            "7/7 [==============================] - 0s 12ms/step - loss: 0.3642 - acc: 0.9000\n",
            "Epoch 85/200\n",
            "7/7 [==============================] - 0s 13ms/step - loss: 0.3638 - acc: 0.8950\n",
            "Epoch 86/200\n",
            "7/7 [==============================] - 0s 12ms/step - loss: 0.3593 - acc: 0.8950\n",
            "Epoch 87/200\n",
            "7/7 [==============================] - 0s 12ms/step - loss: 0.3611 - acc: 0.8950\n",
            "Epoch 88/200\n",
            "7/7 [==============================] - 0s 13ms/step - loss: 0.3465 - acc: 0.8900\n",
            "Epoch 89/200\n",
            "7/7 [==============================] - 0s 11ms/step - loss: 0.3541 - acc: 0.8950\n",
            "Epoch 90/200\n",
            "7/7 [==============================] - 0s 11ms/step - loss: 0.3524 - acc: 0.8950\n",
            "Epoch 91/200\n",
            "7/7 [==============================] - 0s 14ms/step - loss: 0.3433 - acc: 0.9000\n",
            "Epoch 92/200\n",
            "7/7 [==============================] - 0s 12ms/step - loss: 0.3444 - acc: 0.8950\n",
            "Epoch 93/200\n",
            "7/7 [==============================] - 0s 12ms/step - loss: 0.3444 - acc: 0.9050\n",
            "Epoch 94/200\n",
            "7/7 [==============================] - 0s 12ms/step - loss: 0.3426 - acc: 0.8950\n",
            "Epoch 95/200\n",
            "7/7 [==============================] - 0s 12ms/step - loss: 0.3380 - acc: 0.9100\n",
            "Epoch 96/200\n",
            "7/7 [==============================] - 0s 12ms/step - loss: 0.3311 - acc: 0.9050\n",
            "Epoch 97/200\n",
            "7/7 [==============================] - 0s 12ms/step - loss: 0.3379 - acc: 0.9000\n",
            "Epoch 98/200\n",
            "7/7 [==============================] - 0s 12ms/step - loss: 0.3406 - acc: 0.8900\n",
            "Epoch 99/200\n",
            "7/7 [==============================] - 0s 12ms/step - loss: 0.3285 - acc: 0.9000\n",
            "Epoch 100/200\n",
            "7/7 [==============================] - 0s 12ms/step - loss: 0.3263 - acc: 0.8950\n",
            "Epoch 101/200\n",
            "7/7 [==============================] - 0s 12ms/step - loss: 0.3269 - acc: 0.9050\n",
            "Epoch 102/200\n",
            "7/7 [==============================] - 0s 13ms/step - loss: 0.3158 - acc: 0.9050\n",
            "Epoch 103/200\n",
            "7/7 [==============================] - 0s 13ms/step - loss: 0.3352 - acc: 0.9050\n",
            "Epoch 104/200\n",
            "7/7 [==============================] - 0s 12ms/step - loss: 0.3147 - acc: 0.8950\n",
            "Epoch 105/200\n",
            "7/7 [==============================] - 0s 12ms/step - loss: 0.3243 - acc: 0.9000\n",
            "Epoch 106/200\n",
            "7/7 [==============================] - 0s 12ms/step - loss: 0.3183 - acc: 0.9050\n",
            "Epoch 107/200\n",
            "7/7 [==============================] - 0s 12ms/step - loss: 0.3107 - acc: 0.9100\n",
            "Epoch 108/200\n",
            "7/7 [==============================] - 0s 12ms/step - loss: 0.3129 - acc: 0.9100\n",
            "Epoch 109/200\n",
            "7/7 [==============================] - 0s 13ms/step - loss: 0.3126 - acc: 0.9050\n",
            "Epoch 110/200\n",
            "7/7 [==============================] - 0s 14ms/step - loss: 0.3048 - acc: 0.9150\n",
            "Epoch 111/200\n",
            "7/7 [==============================] - 0s 13ms/step - loss: 0.3207 - acc: 0.9050\n",
            "Epoch 112/200\n",
            "7/7 [==============================] - 0s 16ms/step - loss: 0.2887 - acc: 0.9150\n",
            "Epoch 113/200\n",
            "7/7 [==============================] - 0s 13ms/step - loss: 0.3246 - acc: 0.8900\n",
            "Epoch 114/200\n",
            "7/7 [==============================] - 0s 12ms/step - loss: 0.3089 - acc: 0.9100\n",
            "Epoch 115/200\n",
            "7/7 [==============================] - 0s 12ms/step - loss: 0.3037 - acc: 0.9100\n",
            "Epoch 116/200\n",
            "7/7 [==============================] - 0s 15ms/step - loss: 0.3040 - acc: 0.9000\n",
            "Epoch 117/200\n",
            "7/7 [==============================] - 0s 13ms/step - loss: 0.2986 - acc: 0.9100\n",
            "Epoch 118/200\n",
            "7/7 [==============================] - 0s 13ms/step - loss: 0.3116 - acc: 0.9000\n",
            "Epoch 119/200\n",
            "7/7 [==============================] - 0s 13ms/step - loss: 0.3002 - acc: 0.9100\n",
            "Epoch 120/200\n",
            "7/7 [==============================] - 0s 12ms/step - loss: 0.2943 - acc: 0.9100\n",
            "Epoch 121/200\n",
            "7/7 [==============================] - 0s 12ms/step - loss: 0.2903 - acc: 0.9200\n",
            "Epoch 122/200\n",
            "7/7 [==============================] - 0s 12ms/step - loss: 0.2913 - acc: 0.9100\n",
            "Epoch 123/200\n",
            "7/7 [==============================] - 0s 13ms/step - loss: 0.2875 - acc: 0.9150\n",
            "Epoch 124/200\n",
            "7/7 [==============================] - 0s 11ms/step - loss: 0.2911 - acc: 0.9050\n",
            "Epoch 125/200\n",
            "7/7 [==============================] - 0s 18ms/step - loss: 0.2824 - acc: 0.9150\n",
            "Epoch 126/200\n",
            "7/7 [==============================] - 0s 18ms/step - loss: 0.2933 - acc: 0.9100\n",
            "Epoch 127/200\n",
            "7/7 [==============================] - 0s 18ms/step - loss: 0.2837 - acc: 0.9000\n",
            "Epoch 128/200\n",
            "7/7 [==============================] - 0s 18ms/step - loss: 0.2833 - acc: 0.9200\n",
            "Epoch 129/200\n",
            "7/7 [==============================] - 0s 20ms/step - loss: 0.2873 - acc: 0.9100\n",
            "Epoch 130/200\n",
            "7/7 [==============================] - 0s 19ms/step - loss: 0.2844 - acc: 0.9100\n",
            "Epoch 131/200\n",
            "7/7 [==============================] - 0s 19ms/step - loss: 0.2882 - acc: 0.9200\n",
            "Epoch 132/200\n",
            "7/7 [==============================] - 0s 18ms/step - loss: 0.2818 - acc: 0.9100\n",
            "Epoch 133/200\n",
            "7/7 [==============================] - 0s 20ms/step - loss: 0.2777 - acc: 0.9100\n",
            "Epoch 134/200\n",
            "7/7 [==============================] - 0s 17ms/step - loss: 0.2828 - acc: 0.9150\n",
            "Epoch 135/200\n",
            "7/7 [==============================] - 0s 19ms/step - loss: 0.2711 - acc: 0.9200\n",
            "Epoch 136/200\n",
            "7/7 [==============================] - 0s 19ms/step - loss: 0.2731 - acc: 0.9250\n",
            "Epoch 137/200\n",
            "7/7 [==============================] - 0s 19ms/step - loss: 0.2764 - acc: 0.9250\n",
            "Epoch 138/200\n",
            "7/7 [==============================] - 0s 21ms/step - loss: 0.2837 - acc: 0.9100\n",
            "Epoch 139/200\n",
            "7/7 [==============================] - 0s 19ms/step - loss: 0.2748 - acc: 0.9200\n",
            "Epoch 140/200\n",
            "7/7 [==============================] - 0s 20ms/step - loss: 0.2777 - acc: 0.9200\n",
            "Epoch 141/200\n",
            "7/7 [==============================] - 0s 19ms/step - loss: 0.2814 - acc: 0.9150\n",
            "Epoch 142/200\n",
            "7/7 [==============================] - 0s 19ms/step - loss: 0.2702 - acc: 0.9200\n",
            "Epoch 143/200\n",
            "7/7 [==============================] - 0s 22ms/step - loss: 0.2643 - acc: 0.9150\n",
            "Epoch 144/200\n",
            "7/7 [==============================] - 0s 19ms/step - loss: 0.2667 - acc: 0.9250\n",
            "Epoch 145/200\n",
            "7/7 [==============================] - 0s 21ms/step - loss: 0.2657 - acc: 0.9200\n",
            "Epoch 146/200\n",
            "7/7 [==============================] - 0s 17ms/step - loss: 0.2628 - acc: 0.9200\n",
            "Epoch 147/200\n",
            "7/7 [==============================] - 0s 18ms/step - loss: 0.2639 - acc: 0.9300\n",
            "Epoch 148/200\n",
            "7/7 [==============================] - 0s 19ms/step - loss: 0.2737 - acc: 0.9200\n",
            "Epoch 149/200\n",
            "7/7 [==============================] - 0s 18ms/step - loss: 0.2581 - acc: 0.9350\n",
            "Epoch 150/200\n",
            "7/7 [==============================] - 0s 19ms/step - loss: 0.2614 - acc: 0.9250\n",
            "Epoch 151/200\n",
            "7/7 [==============================] - 0s 17ms/step - loss: 0.2573 - acc: 0.9200\n",
            "Epoch 152/200\n",
            "7/7 [==============================] - 0s 18ms/step - loss: 0.2583 - acc: 0.9150\n",
            "Epoch 153/200\n",
            "7/7 [==============================] - 0s 19ms/step - loss: 0.2559 - acc: 0.9200\n",
            "Epoch 154/200\n",
            "7/7 [==============================] - 0s 19ms/step - loss: 0.2544 - acc: 0.9250\n",
            "Epoch 155/200\n",
            "7/7 [==============================] - 0s 19ms/step - loss: 0.2522 - acc: 0.9250\n",
            "Epoch 156/200\n",
            "7/7 [==============================] - 0s 22ms/step - loss: 0.2480 - acc: 0.9250\n",
            "Epoch 157/200\n",
            "7/7 [==============================] - 0s 21ms/step - loss: 0.2494 - acc: 0.9300\n",
            "Epoch 158/200\n",
            "7/7 [==============================] - 0s 20ms/step - loss: 0.2469 - acc: 0.9250\n",
            "Epoch 159/200\n",
            "7/7 [==============================] - 0s 20ms/step - loss: 0.2456 - acc: 0.9250\n",
            "Epoch 160/200\n",
            "7/7 [==============================] - 0s 23ms/step - loss: 0.2493 - acc: 0.9350\n",
            "Epoch 161/200\n",
            "7/7 [==============================] - 0s 22ms/step - loss: 0.2436 - acc: 0.9250\n",
            "Epoch 162/200\n",
            "7/7 [==============================] - 0s 16ms/step - loss: 0.2453 - acc: 0.9300\n",
            "Epoch 163/200\n",
            "7/7 [==============================] - 0s 13ms/step - loss: 0.2406 - acc: 0.9250\n",
            "Epoch 164/200\n",
            "7/7 [==============================] - 0s 13ms/step - loss: 0.2405 - acc: 0.9250\n",
            "Epoch 165/200\n",
            "7/7 [==============================] - 0s 13ms/step - loss: 0.2542 - acc: 0.9250\n",
            "Epoch 166/200\n",
            "7/7 [==============================] - 0s 13ms/step - loss: 0.2403 - acc: 0.9300\n",
            "Epoch 167/200\n",
            "7/7 [==============================] - 0s 13ms/step - loss: 0.2442 - acc: 0.9250\n",
            "Epoch 168/200\n",
            "7/7 [==============================] - 0s 14ms/step - loss: 0.2410 - acc: 0.9250\n",
            "Epoch 169/200\n",
            "7/7 [==============================] - 0s 16ms/step - loss: 0.2314 - acc: 0.9250\n",
            "Epoch 170/200\n",
            "7/7 [==============================] - 0s 13ms/step - loss: 0.2418 - acc: 0.9250\n",
            "Epoch 171/200\n",
            "7/7 [==============================] - 0s 13ms/step - loss: 0.2361 - acc: 0.9300\n",
            "Epoch 172/200\n",
            "7/7 [==============================] - 0s 14ms/step - loss: 0.2356 - acc: 0.9300\n",
            "Epoch 173/200\n",
            "7/7 [==============================] - 0s 13ms/step - loss: 0.2369 - acc: 0.9300\n",
            "Epoch 174/200\n",
            "7/7 [==============================] - 0s 12ms/step - loss: 0.2346 - acc: 0.9250\n",
            "Epoch 175/200\n",
            "7/7 [==============================] - 0s 13ms/step - loss: 0.2351 - acc: 0.9200\n",
            "Epoch 176/200\n",
            "7/7 [==============================] - 0s 13ms/step - loss: 0.2525 - acc: 0.9150\n",
            "Epoch 177/200\n",
            "7/7 [==============================] - 0s 13ms/step - loss: 0.2227 - acc: 0.9350\n",
            "Epoch 178/200\n",
            "7/7 [==============================] - 0s 14ms/step - loss: 0.2398 - acc: 0.9250\n",
            "Epoch 179/200\n",
            "7/7 [==============================] - 0s 14ms/step - loss: 0.2360 - acc: 0.9350\n",
            "Epoch 180/200\n",
            "7/7 [==============================] - 0s 12ms/step - loss: 0.2312 - acc: 0.9200\n",
            "Epoch 181/200\n",
            "7/7 [==============================] - 0s 14ms/step - loss: 0.2305 - acc: 0.9250\n",
            "Epoch 182/200\n",
            "7/7 [==============================] - 0s 14ms/step - loss: 0.2317 - acc: 0.9200\n",
            "Epoch 183/200\n",
            "7/7 [==============================] - 0s 13ms/step - loss: 0.2219 - acc: 0.9300\n",
            "Epoch 184/200\n",
            "7/7 [==============================] - 0s 14ms/step - loss: 0.2237 - acc: 0.9250\n",
            "Epoch 185/200\n",
            "7/7 [==============================] - 0s 13ms/step - loss: 0.2205 - acc: 0.9300\n",
            "Epoch 186/200\n",
            "7/7 [==============================] - 0s 13ms/step - loss: 0.2231 - acc: 0.9250\n",
            "Epoch 187/200\n",
            "7/7 [==============================] - 0s 13ms/step - loss: 0.2229 - acc: 0.9350\n",
            "Epoch 188/200\n",
            "7/7 [==============================] - 0s 13ms/step - loss: 0.2212 - acc: 0.9250\n",
            "Epoch 189/200\n",
            "7/7 [==============================] - 0s 14ms/step - loss: 0.2223 - acc: 0.9300\n",
            "Epoch 190/200\n",
            "7/7 [==============================] - 0s 14ms/step - loss: 0.2198 - acc: 0.9250\n",
            "Epoch 191/200\n",
            "7/7 [==============================] - 0s 13ms/step - loss: 0.2201 - acc: 0.9300\n",
            "Epoch 192/200\n",
            "7/7 [==============================] - 0s 13ms/step - loss: 0.2272 - acc: 0.9200\n",
            "Epoch 193/200\n",
            "7/7 [==============================] - 0s 13ms/step - loss: 0.2383 - acc: 0.9200\n",
            "Epoch 194/200\n",
            "7/7 [==============================] - 0s 12ms/step - loss: 0.2204 - acc: 0.9350\n",
            "Epoch 195/200\n",
            "7/7 [==============================] - 0s 12ms/step - loss: 0.2169 - acc: 0.9350\n",
            "Epoch 196/200\n",
            "7/7 [==============================] - 0s 13ms/step - loss: 0.2348 - acc: 0.9050\n",
            "Epoch 197/200\n",
            "7/7 [==============================] - 0s 12ms/step - loss: 0.2134 - acc: 0.9350\n",
            "Epoch 198/200\n",
            "7/7 [==============================] - 0s 12ms/step - loss: 0.2269 - acc: 0.9250\n",
            "Epoch 199/200\n",
            "7/7 [==============================] - 0s 14ms/step - loss: 0.2107 - acc: 0.9350\n",
            "Epoch 200/200\n",
            "7/7 [==============================] - 0s 13ms/step - loss: 0.2118 - acc: 0.9350\n"
          ]
        }
      ]
    },
    {
      "cell_type": "code",
      "source": [
        "print(model.summary())"
      ],
      "metadata": {
        "colab": {
          "base_uri": "https://localhost:8080/"
        },
        "id": "1XngZumOuwlE",
        "outputId": "9cc9169d-36bf-44e9-859d-e1c3c91aa2ba"
      },
      "execution_count": null,
      "outputs": [
        {
          "output_type": "stream",
          "name": "stdout",
          "text": [
            "Model: \"sequential_1\"\n",
            "_________________________________________________________________\n",
            " Layer (type)                Output Shape              Param #   \n",
            "=================================================================\n",
            " conv2d (Conv2D)             (None, 28, 28, 4)         40        \n",
            "                                                                 \n",
            " max_pooling2d (MaxPooling2  (None, 14, 14, 4)         0         \n",
            " D)                                                              \n",
            "                                                                 \n",
            " conv2d_1 (Conv2D)           (None, 14, 14, 2)         74        \n",
            "                                                                 \n",
            " max_pooling2d_1 (MaxPoolin  (None, 7, 7, 2)           0         \n",
            " g2D)                                                            \n",
            "                                                                 \n",
            " flatten_1 (Flatten)         (None, 98)                0         \n",
            "                                                                 \n",
            " dense_3 (Dense)             (None, 5)                 495       \n",
            "                                                                 \n",
            "=================================================================\n",
            "Total params: 609 (2.38 KB)\n",
            "Trainable params: 609 (2.38 KB)\n",
            "Non-trainable params: 0 (0.00 Byte)\n",
            "_________________________________________________________________\n",
            "None\n"
          ]
        }
      ]
    },
    {
      "cell_type": "code",
      "source": [
        "#evaluate\n",
        "score = model.evaluate(X_test, Y_test)\n",
        "print(\"Test loss:\", score[0])\n",
        "print(\"Test accuracy:\", score[1])"
      ],
      "metadata": {
        "colab": {
          "base_uri": "https://localhost:8080/"
        },
        "id": "7khkjftrnGYw",
        "outputId": "f0a3f865-a185-4ec3-b785-07b0e87d7f3d"
      },
      "execution_count": null,
      "outputs": [
        {
          "output_type": "stream",
          "name": "stdout",
          "text": [
            "2/2 [==============================] - 0s 19ms/step - loss: 0.2068 - acc: 0.9400\n",
            "Test loss: 0.20680181682109833\n",
            "Test accuracy: 0.9399999976158142\n"
          ]
        }
      ]
    },
    {
      "cell_type": "markdown",
      "source": [
        "# CNN Vizualisation"
      ],
      "metadata": {
        "id": "5WY-seww0v5g"
      }
    },
    {
      "cell_type": "code",
      "source": [
        "img = [0.5536, 0.5497, 0.5702, 0.5719, 0.5608, 0.5702, 0.5758, 0.5719, 0.5758, 0.5758, 0.5758, 0.5742, 0.5781, 0.5804, 0.5827, 0.5815, 0.5811, 0.5792, 0.5820, 0.5838, 0.5850, 0.5834, 0.5815, 0.5845, 0.5827, 0.5799, 0.5781, 0.5735, 0.5497, 0.5663, 0.5758, 0.5758, 0.5696, 0.5719, 0.5758, 0.5719, 0.5735, 0.5758, 0.5765, 0.5804, 0.5834, 0.5834, 0.5834, 0.5822, 0.5845, 0.5850, 0.5862, 0.5822, 0.5815, 0.5822, 0.5845, 0.5815, 0.5845, 0.5850, 0.5850, 0.5776, 0.5663, 0.5758, 0.5758, 0.5719, 0.5735, 0.5758, 0.5742, 0.5776, 0.5792, 0.5804, 0.5827, 0.5834, 0.5850, 0.5875, 0.5880, 0.5899, 0.5834, 0.5875, 0.5915, 0.5880, 0.5891, 0.5843, 0.5840, 0.5859, 0.5845, 0.5822, 0.5845, 0.5840, 0.5702, 0.5758, 0.5719, 0.5758, 0.5742, 0.5719, 0.5765, 0.5827, 0.5850, 0.5834, 0.5834, 0.5811, 0.5977, 0.6049, 0.6026, 0.5967, 0.5900, 0.5991, 0.6032, 0.5829, 0.5886, 0.5863, 0.5838, 0.5822, 0.5811, 0.5850, 0.5854, 0.5820, 0.5696, 0.5735, 0.5719, 0.5719, 0.5730, 0.5765, 0.5827, 0.5811, 0.5811, 0.5862, 0.5834, 0.5922, 0.6072, 0.6055, 0.6055, 0.6044, 0.6049, 0.6072, 0.6032, 0.5931, 0.5931, 0.5850, 0.5845, 0.5804, 0.5822, 0.5843, 0.5865, 0.5831, 0.5735, 0.5719, 0.5758, 0.5822, 0.5815, 0.5827, 0.5834, 0.5850, 0.5954, 0.6032, 0.6028, 0.6072, 0.6049, 0.6032, 0.6037, 0.6055, 0.6055, 0.6055, 0.6049, 0.6049, 0.6026, 0.5905, 0.5815, 0.5850, 0.5838, 0.5854, 0.5870, 0.5829, 0.5742, 0.5735, 0.5758, 0.5834, 0.5850, 0.5850, 0.5815, 0.5961, 0.6083, 0.6049, 0.6049, 0.6032, 0.6032, 0.6049, 0.6055, 0.6037, 0.6055, 0.6072, 0.6032, 0.6032, 0.6049, 0.5958, 0.5891, 0.5820, 0.5842, 0.5956, 0.5991, 0.5849, 0.5735, 0.5735, 0.5742, 0.5827, 0.5811, 0.5811, 0.5815, 0.5981, 0.6049, 0.6009, 0.6055, 0.6078, 0.6049, 0.6055, 0.6072, 0.6072, 0.6049, 0.6095, 0.6101, 0.6072, 0.6009, 0.6026, 0.6049, 0.5970, 0.5928, 0.6049, 0.6067, 0.5894, 0.5758, 0.5735, 0.5804, 0.5811, 0.5866, 0.5917, 0.5854, 0.5975, 0.6049, 0.6055, 0.6055, 0.6072, 0.6072, 0.6095, 0.6037, 0.6049, 0.6072, 0.6136, 0.6136, 0.6124, 0.6060, 0.6078, 0.6078, 0.6095, 0.6049, 0.6032, 0.6072, 0.5993, 0.5804, 0.5822, 0.5850, 0.5811, 0.5863, 0.6014, 0.6067, 0.6067, 0.6055, 0.6055, 0.6067, 0.6067, 0.6044, 0.6067, 0.6067, 0.6090, 0.6136, 0.6136, 0.6120, 0.6081, 0.6097, 0.6124, 0.6136, 0.6083, 0.6037, 0.6067, 0.6055, 0.6072, 0.5822, 0.5850, 0.5850, 0.5811, 0.5871, 0.6021, 0.6044, 0.5998, 0.5975, 0.6014, 0.5975, 0.5958, 0.5993, 0.6051, 0.5993, 0.6062, 0.6101, 0.6122, 0.6306, 0.6428, 0.6287, 0.6150, 0.6032, 0.6044, 0.6032, 0.6060, 0.6049, 0.6009, 0.5850, 0.5822, 0.5822, 0.5834, 0.5850, 0.5862, 0.6007, 0.6255, 0.6336, 0.6151, 0.6309, 0.6505, 0.6334, 0.6336, 0.6542, 0.6572, 0.6388, 0.6270, 0.5476, 0.4665, 0.5099, 0.5876, 0.6102, 0.6032, 0.6044, 0.6067, 0.6067, 0.5986, 0.5799, 0.5781, 0.5827, 0.5850, 0.5815, 0.5862, 0.5517, 0.3781, 0.2192, 0.3420, 0.4005, 0.4060, 0.4991, 0.5137, 0.4310, 0.4207, 0.4463, 0.3916, 0.2547, 0.0898, 0.2204, 0.3795, 0.5794, 0.6131, 0.6062, 0.6078, 0.6055, 0.6009, 0.5757, 0.5780, 0.5803, 0.5820, 0.5805, 0.6075, 0.3876, 0.1835, 0.0399, 0.2985, 0.2197, 0.0139, 0.1731, 0.3261, 0.1489, 0.1767, 0.3422, 0.3198, 0.3476, 0.5168, 0.5582, 0.3599, 0.4792, 0.6490, 0.6372, 0.6266, 0.6157, 0.6153, 0.6008, 0.5988, 0.5937, 0.5815, 0.5922, 0.5418, 0.3256, 0.2231, 0.1299, 0.3781, 0.4072, 0.3059, 0.3375, 0.3961, 0.2047, 0.2526, 0.3623, 0.3195, 0.3432, 0.4702, 0.5333, 0.3945, 0.3316, 0.4202, 0.4269, 0.5429, 0.6038, 0.6160, 0.3374, 0.3295, 0.3386, 0.3707, 0.3733, 0.2852, 0.2560, 0.2133, 0.0585, 0.2619, 0.1949, 0.0106, 0.1203, 0.3086, 0.1467, 0.1673, 0.3037, 0.2887, 0.2583, 0.1448, 0.2198, 0.3257, 0.3154, 0.4693, 0.4956, 0.5046, 0.5136, 0.5140, 0.3459, 0.3465, 0.3447, 0.3461, 0.3315, 0.2495, 0.2328, 0.1714, 0.0491, 0.2280, 0.2032, 0.0356, 0.1313, 0.2869, 0.1546, 0.1676, 0.2735, 0.2596, 0.2374, 0.1442, 0.2082, 0.3044, 0.3166, 0.4060, 0.4084, 0.3964, 0.3924, 0.3882, 0.4320, 0.4375, 0.4345, 0.4321, 0.4292, 0.3104, 0.2058, 0.1785, 0.0831, 0.2038, 0.2002, 0.0634, 0.1012, 0.1788, 0.1286, 0.1219, 0.1668, 0.1766, 0.2123, 0.1878, 0.1933, 0.2740, 0.5056, 0.5809, 0.5736, 0.5758, 0.5742, 0.5726, 0.6038, 0.6038, 0.6072, 0.6065, 0.6158, 0.5636, 0.2647, 0.1153, 0.0912, 0.1179, 0.1702, 0.1787, 0.2035, 0.2151, 0.2285, 0.2401, 0.2233, 0.1741, 0.1466, 0.1593, 0.2002, 0.3985, 0.6271, 0.6503, 0.6452, 0.6270, 0.6203, 0.6215, 0.5783, 0.5783, 0.5806, 0.5819, 0.5819, 0.5877, 0.5240, 0.3872, 0.3661, 0.4013, 0.5094, 0.5794, 0.5998, 0.6111, 0.6070, 0.6139, 0.6102, 0.5721, 0.5139, 0.5248, 0.5613, 0.6043, 0.6180, 0.6284, 0.6268, 0.6124, 0.6124, 0.6124, 0.5838, 0.5838, 0.5834, 0.5850, 0.5815, 0.5896, 0.6131, 0.6318, 0.6329, 0.6341, 0.6309, 0.6169, 0.6125, 0.6213, 0.6187, 0.6203, 0.6234, 0.6278, 0.6340, 0.6340, 0.6296, 0.6175, 0.6136, 0.6136, 0.6136, 0.6147, 0.6118, 0.6078, 0.5799, 0.5850, 0.5850, 0.5811, 0.5850, 0.6032, 0.6032, 0.6005, 0.6097, 0.6097, 0.6074, 0.6090, 0.6099, 0.6173, 0.6101, 0.6124, 0.6236, 0.6215, 0.6167, 0.6136, 0.6148, 0.6136, 0.6141, 0.6164, 0.6164, 0.6129, 0.6136, 0.6118, 0.5735, 0.5799, 0.5850, 0.5811, 0.5836, 0.5998, 0.6072, 0.6055, 0.6078, 0.6083, 0.6055, 0.6072, 0.6096, 0.6115, 0.6060, 0.6118, 0.6159, 0.6136, 0.6129, 0.6160, 0.6164, 0.6164, 0.6136, 0.6141, 0.6164, 0.6124, 0.6095, 0.6072, 0.5742, 0.5735, 0.5804, 0.5834, 0.5827, 0.5878, 0.5942, 0.6072, 0.6095, 0.6032, 0.6049, 0.6037, 0.6067, 0.6067, 0.6044, 0.6106, 0.6152, 0.6106, 0.6101, 0.6141, 0.6141, 0.6141, 0.6152, 0.6129, 0.6129, 0.6118, 0.6037, 0.6049, 0.5719, 0.5719, 0.5758, 0.5827, 0.5845, 0.5788, 0.5822, 0.5903, 0.5998, 0.6072, 0.6032, 0.6055, 0.6072, 0.6060, 0.6037, 0.6067, 0.6072, 0.6049, 0.6101, 0.6147, 0.6141, 0.6106, 0.6136, 0.6164, 0.6072, 0.6037, 0.6072, 0.6072, 0.5758, 0.5758, 0.5719, 0.5742, 0.5769, 0.5758, 0.5804, 0.5811, 0.5862, 0.5926, 0.6026, 0.6072, 0.6032, 0.6044, 0.6055, 0.6049, 0.6072, 0.6032, 0.6049, 0.6118, 0.6147, 0.6090, 0.6049, 0.6078, 0.6055, 0.6049, 0.6055, 0.6049, 0.5592, 0.5719, 0.5758, 0.5735, 0.5742, 0.5723, 0.5758, 0.5827, 0.5742, 0.5776, 0.5926, 0.6032, 0.6072, 0.6037, 0.6072, 0.6055, 0.6055, 0.6049, 0.6009, 0.6032, 0.6095, 0.6095, 0.6032, 0.6049, 0.6072, 0.6055, 0.6049, 0.6072, 0.5497, 0.5536, 0.5608, 0.5719, 0.5758, 0.5719, 0.5758, 0.5811, 0.5781, 0.5746, 0.5811, 0.5905, 0.6014, 0.6032, 0.6055, 0.6049, 0.6032, 0.6049, 0.6032, 0.6055, 0.6049, 0.6060, 0.6072, 0.6009, 0.6032, 0.6072, 0.6055, 0.6049]\n",
        "true_idx = 4  # Resistor\n",
        "\n",
        "img_reshape = np.asarray(img).reshape((28,28))\n",
        "# or np.reshape(np.array(img),(28,28))\n",
        "\n",
        "plt.figure(figsize=(3,2))\n",
        "plt.imshow(img_reshape,cmap=\"gray\")\n"
      ],
      "metadata": {
        "colab": {
          "base_uri": "https://localhost:8080/",
          "height": 234
        },
        "id": "hTGp_XoHqAiA",
        "outputId": "1aaaa8d7-728b-4d87-b099-736dad58fe3e"
      },
      "execution_count": null,
      "outputs": [
        {
          "output_type": "execute_result",
          "data": {
            "text/plain": [
              "<matplotlib.image.AxesImage at 0x7c3f903b6ce0>"
            ]
          },
          "metadata": {},
          "execution_count": 80
        },
        {
          "output_type": "display_data",
          "data": {
            "text/plain": [
              "<Figure size 300x200 with 1 Axes>"
            ],
            "image/png": "[encoded data removed]"
          },
          "metadata": {}
        }
      ]
    },
    {
      "cell_type": "code",
      "source": [
        "img_reshape = np.asarray(img).reshape((28,28,1))\n",
        "\n",
        "images = np.array([img_reshape])\n",
        "\n",
        "print(images.shape)\n",
        "\n",
        "preds = model.predict(images)\n",
        "\n",
        "for i, pred in enumerate(preds[0]):\n",
        "  print(labels[i],pred)"
      ],
      "metadata": {
        "colab": {
          "base_uri": "https://localhost:8080/"
        },
        "id": "HnLuOUYJ2TTC",
        "outputId": "2da6c2d8-116d-4903-f629-0ad2257a6ea2"
      },
      "execution_count": null,
      "outputs": [
        {
          "output_type": "stream",
          "name": "stdout",
          "text": [
            "(1, 28, 28, 1)\n",
            "1/1 [==============================] - 0s 70ms/step\n",
            "background 8.377025e-05\n",
            "capacitor 0.0014840745\n",
            "diode 0.44152966\n",
            "led 0.0038893155\n",
            "resistor 0.55301315\n"
          ]
        }
      ]
    },
    {
      "cell_type": "code",
      "source": [
        "### For either algorithm, we need to remove the Softmax activation function of the last layer\n",
        "model.layers[-1].activation = None"
      ],
      "metadata": {
        "id": "93qtLMM29yxm"
      },
      "execution_count": null,
      "outputs": []
    },
    {
      "cell_type": "code",
      "source": [
        "### Saliency Map\n",
        "\n",
        "### Based on: https://github.com/keisen/tf-keras-vis/blob/master/tf_keras_vis/saliency.py\n",
        "def get_saliency_map(img_array, model, class_idx):\n",
        "\n",
        "  # Gradient calculation requires input to be a tensor\n",
        "  img_tensor = tf.convert_to_tensor(img_array)\n",
        "\n",
        "  # Do a forward pass of model with image and track the computations on the \"tape\"\n",
        "  with tf.GradientTape(watch_accessed_variables=False, persistent=True) as tape:\n",
        "\n",
        "    # Compute (non-softmax) outputs of model with given image\n",
        "    tape.watch(img_tensor)\n",
        "    outputs = model(img_tensor, training=False)\n",
        "\n",
        "    # Get score (predicted value) of actual class\n",
        "    score = outputs[:, true_idx]\n",
        "\n",
        "  # Compute gradients of the loss with respect to the input image\n",
        "  grads = tape.gradient(score, img_tensor)\n",
        "\n",
        "  # Finds max value in each color channel of the gradient (should be grayscale for this demo)\n",
        "  grads_disp = [np.max(g, axis=-1) for g in grads]\n",
        "\n",
        "  # There should be only one gradient heatmap for this demo\n",
        "  grad_disp = grads_disp[0]\n",
        "\n",
        "  # The absolute value of the gradient shows the effect of change at each pixel\n",
        "  # Source: https://christophm.github.io/interpretable-ml-book/pixel-attribution.html\n",
        "  grad_disp = tf.abs(grad_disp)\n",
        "\n",
        "  # Normalize to between 0 and 1 (use epsilon, a very small float, to prevent divide-by-zero error)\n",
        "  heatmap_min = np.min(grad_disp)\n",
        "  heatmap_max = np.max(grad_disp)\n",
        "  heatmap = (grad_disp - heatmap_min) / (heatmap_max - heatmap_min + tf.keras.backend.epsilon())\n",
        "\n",
        "  return heatmap.numpy()"
      ],
      "metadata": {
        "id": "SlstfhiQ94GG"
      },
      "execution_count": null,
      "outputs": []
    },
    {
      "cell_type": "code",
      "source": [
        "### Generate saliency map for the given input image\n",
        "saliency_map = get_saliency_map(images, model, true_idx)"
      ],
      "metadata": {
        "id": "nUsXhs8j9_rp"
      },
      "execution_count": null,
      "outputs": []
    },
    {
      "cell_type": "code",
      "source": [
        "### Draw map\n",
        "plt.figure(figsize=(3,2))\n",
        "plt.imshow(saliency_map, cmap='jet', vmin=0.0, vmax=1.0)"
      ],
      "metadata": {
        "colab": {
          "base_uri": "https://localhost:8080/",
          "height": 234
        },
        "id": "lNhRHAai-FRw",
        "outputId": "140cea15-c4b6-4b6e-b7b6-df0714923af0"
      },
      "execution_count": null,
      "outputs": [
        {
          "output_type": "execute_result",
          "data": {
            "text/plain": [
              "<matplotlib.image.AxesImage at 0x7c3f903799f0>"
            ]
          },
          "metadata": {},
          "execution_count": 86
        },
        {
          "output_type": "display_data",
          "data": {
            "text/plain": [
              "<Figure size 300x200 with 1 Axes>"
            ],
            "image/png": "[encoded data removed]"
          },
          "metadata": {}
        }
      ]
    },
    {
      "cell_type": "code",
      "source": [
        "### Overlay the saliency map on top of the original input image\n",
        "plt.figure(figsize=(3,2))\n",
        "idx = 0\n",
        "ax = plt.subplot()\n",
        "ax.imshow(images[idx,:,:,0], cmap='gray', vmin=0.0, vmax=1.0)\n",
        "ax.imshow(saliency_map, cmap='jet', alpha=0.25)"
      ],
      "metadata": {
        "colab": {
          "base_uri": "https://localhost:8080/",
          "height": 234
        },
        "id": "KTdISZNT-P23",
        "outputId": "cd71e1ae-532c-497e-f4d1-d0be63b9704e"
      },
      "execution_count": null,
      "outputs": [
        {
          "output_type": "execute_result",
          "data": {
            "text/plain": [
              "<matplotlib.image.AxesImage at 0x7c3f902d86a0>"
            ]
          },
          "metadata": {},
          "execution_count": 87
        },
        {
          "output_type": "display_data",
          "data": {
            "text/plain": [
              "<Figure size 300x200 with 1 Axes>"
            ],
            "image/png": "[encoded data removed]"
          },
          "metadata": {}
        }
      ]
    },
    {
      "cell_type": "code",
      "source": [
        "### Grad-CAM\n",
        "### This function comes from https://keras.io/examples/vision/grad_cam/\n",
        "def make_gradcam_heatmap(img_array, model, last_conv_layer_name, pred_index=None):\n",
        "\n",
        "  # First, we create a model that maps the input image to the activations\n",
        "  # of the last conv layer as well as the output predictions\n",
        "  grad_model = tf.keras.models.Model(\n",
        "      [model.inputs], [model.get_layer(last_conv_layer_name).output, model.output]\n",
        "  )\n",
        "\n",
        "  # Then, we compute the gradient of the top predicted class for our input image\n",
        "  # with respect to the activations of the last conv layer\n",
        "  with tf.GradientTape() as tape:\n",
        "      last_conv_layer_output, preds = grad_model(img_array)\n",
        "      if pred_index is None:\n",
        "          pred_index = tf.argmax(preds[0])\n",
        "      class_channel = preds[:, pred_index]\n",
        "\n",
        "  # This is the gradient of the output neuron (top predicted or chosen)\n",
        "  # with regard to the output feature map of the last conv layer\n",
        "  grads = tape.gradient(class_channel, last_conv_layer_output)\n",
        "\n",
        "  # This is a vector where each entry is the mean intensity of the gradient\n",
        "  # over a specific feature map channel\n",
        "  pooled_grads = tf.reduce_mean(grads, axis=(0, 1, 2))\n",
        "\n",
        "  # We multiply each channel in the feature map array\n",
        "  # by \"how important this channel is\" with regard to the top predicted class\n",
        "  # then sum all the channels to obtain the heatmap class activation\n",
        "  last_conv_layer_output = last_conv_layer_output[0]\n",
        "  heatmap = last_conv_layer_output @ pooled_grads[..., tf.newaxis]\n",
        "  heatmap = tf.squeeze(heatmap)\n",
        "\n",
        "  # The absolute value of the gradient shows the effect of change at each pixel\n",
        "  # Source: https://christophm.github.io/interpretable-ml-book/pixel-attribution.html\n",
        "  heatmap = tf.abs(heatmap)\n",
        "\n",
        "  # Normalize to between 0 and 1 (use epsilon, a very small float, to prevent divide-by-zero error)\n",
        "  heatmap_min = np.min(heatmap)\n",
        "  heatmap_max = np.max(heatmap)\n",
        "  heatmap = (heatmap - heatmap_min) / (heatmap_max - heatmap_min + tf.keras.backend.epsilon())\n",
        "\n",
        "  return heatmap.numpy()"
      ],
      "metadata": {
        "id": "WJ5YAHwn_XzC"
      },
      "execution_count": null,
      "outputs": []
    },
    {
      "cell_type": "code",
      "source": [
        "### We need to tell Grad-CAM where to find the last convolution layer\n",
        "\n",
        "# Print out the layers in the model\n",
        "for layer in model.layers:\n",
        "  print(layer, layer.name)\n",
        "\n",
        "# Go backwards through the model to find the last convolution layer\n",
        "last_conv_layer = None\n",
        "for layer in reversed(model.layers):\n",
        "    if 'conv' in layer.name:\n",
        "        last_conv_layer = layer.name\n",
        "        break\n",
        "\n",
        "# Give a warning if the last convolution layer could not be found\n",
        "if last_conv_layer is not None:\n",
        "  print(\"Last convolution layer found:\", last_conv_layer)\n",
        "else:\n",
        "  print(\"ERROR: Last convolution layer could not be found. Do not continue.\")"
      ],
      "metadata": {
        "colab": {
          "base_uri": "https://localhost:8080/"
        },
        "id": "POZcz17C_cbb",
        "outputId": "98c63fd4-f8e6-4a95-e4e1-628a86629e70"
      },
      "execution_count": null,
      "outputs": [
        {
          "output_type": "stream",
          "name": "stdout",
          "text": [
            "<keras.src.layers.convolutional.conv2d.Conv2D object at 0x7c3f906b8160> conv2d\n",
            "<keras.src.layers.pooling.max_pooling2d.MaxPooling2D object at 0x7c3f90575e70> max_pooling2d\n",
            "<keras.src.layers.convolutional.conv2d.Conv2D object at 0x7c3f9059a0e0> conv2d_1\n",
            "<keras.src.layers.pooling.max_pooling2d.MaxPooling2D object at 0x7c3f90577760> max_pooling2d_1\n",
            "<keras.src.layers.reshaping.flatten.Flatten object at 0x7c3f90576e30> flatten_1\n",
            "<keras.src.layers.core.dense.Dense object at 0x7c3f90577610> dense_3\n",
            "Last convolution layer found: conv2d_1\n"
          ]
        }
      ]
    },
    {
      "cell_type": "code",
      "source": [
        "### Generate class activation heatmap\n",
        "heatmap = make_gradcam_heatmap(images, model, last_conv_layer)"
      ],
      "metadata": {
        "id": "-IAmkILt_eq_"
      },
      "execution_count": null,
      "outputs": []
    },
    {
      "cell_type": "code",
      "source": [
        "### Draw map\n",
        "plt.figure(figsize=(3,2))\n",
        "plt.imshow(heatmap, cmap='jet', vmin=0.0, vmax=1.0)"
      ],
      "metadata": {
        "colab": {
          "base_uri": "https://localhost:8080/",
          "height": 231
        },
        "id": "sfqUt-7U_fyQ",
        "outputId": "a91f92a5-8388-479d-e06f-6a6437abb7c7"
      },
      "execution_count": null,
      "outputs": [
        {
          "output_type": "execute_result",
          "data": {
            "text/plain": [
              "<matplotlib.image.AxesImage at 0x7c3f902db580>"
            ]
          },
          "metadata": {},
          "execution_count": 91
        },
        {
          "output_type": "display_data",
          "data": {
            "text/plain": [
              "<Figure size 300x200 with 1 Axes>"
            ],
            "image/png": "[encoded data removed]"
          },
          "metadata": {}
        }
      ]
    },
    {
      "cell_type": "code",
      "source": [
        "### Overlay the saliency map on top of the original input image\n",
        "plt.figure(figsize=(3,2))\n",
        "# The heatmap is a lot smaller than the original image, so we upsample it\n",
        "big_heatmap = cv2.resize(heatmap, dsize=(28,28), interpolation=cv2.INTER_CUBIC)\n",
        "\n",
        "# Draw original image with heatmap superimposed over it\n",
        "idx = 0\n",
        "ax = plt.subplot()\n",
        "ax.imshow(images[idx,:,:,0], cmap='gray', vmin=0.0, vmax=1.0)\n",
        "ax.imshow(big_heatmap, cmap='jet', alpha=0.25)"
      ],
      "metadata": {
        "colab": {
          "base_uri": "https://localhost:8080/",
          "height": 234
        },
        "id": "W02WY0cv_y3G",
        "outputId": "0354beab-33f9-4092-9a31-6ec98500c2c9"
      },
      "execution_count": null,
      "outputs": [
        {
          "output_type": "execute_result",
          "data": {
            "text/plain": [
              "<matplotlib.image.AxesImage at 0x7c3f90191480>"
            ]
          },
          "metadata": {},
          "execution_count": 92
        },
        {
          "output_type": "display_data",
          "data": {
            "text/plain": [
              "<Figure size 300x200 with 1 Axes>"
            ],
            "image/png": "[encoded data removed]"
          },
          "metadata": {}
        }
      ]
    }
  ]
}