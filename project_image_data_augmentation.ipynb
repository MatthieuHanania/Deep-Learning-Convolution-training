{
  "nbformat": 4,
  "nbformat_minor": 0,
  "metadata": {
    "colab": {
      "provenance": []
    },
    "kernelspec": {
      "name": "python3",
      "display_name": "Python 3"
    },
    "language_info": {
      "name": "python"
    }
  },
  "cells": [
    {
      "cell_type": "markdown",
      "metadata": {
        "id": "32-zMt7tZr3R"
      },
      "source": [
        "# Project: Image Data Augmentation\n",
        "\n",
        "In this code, I try data augmentation technique, that rotates, flip, or add noice to images\n",
        "\n",
        "The dataset and the initial notebook are made by EdgeImpulse, Inc for their coursera course"
      ]
    },
    {
      "cell_type": "code",
      "metadata": {
        "id": "9RTimcB-ZoIT"
      },
      "source": [
        "import numpy as np\n",
        "import matplotlib.pyplot as plt\n",
        "import random\n",
        "import os\n",
        "import PIL\n",
        "\n",
        "import skimage.transform\n",
        "import skimage.util"
      ],
      "execution_count": null,
      "outputs": []
    },
    {
      "cell_type": "code",
      "metadata": {
        "id": "8zJCNZmEaCCN"
      },
      "source": [
        "### Settings\n",
        "\n",
        "# Location of dataset and output folder\n",
        "DATASET_PATH = \"/content/dataset\"\n",
        "OUT_PATH = \"/content/output\"\n",
        "OUT_ZIP = \"augmented_dataset.zip\"\n",
        "\n",
        "# File format to use for new dataset\n",
        "IMG_EXT = \".png\"\n",
        "\n",
        "# You are welcome to change the seed to get different augmentation effects\n",
        "SEED = 42\n",
        "random.seed(SEED)"
      ],
      "execution_count": null,
      "outputs": []
    },
    {
      "cell_type": "code",
      "metadata": {
        "id": "siLr8t4-qR9K"
      },
      "source": [
        "### Create output directory\n",
        "try:\n",
        "  os.makedirs(OUT_PATH)\n",
        "except FileExistsError:\n",
        "  print(\"WARNING: Output directory already exists. Check to make sure it is empty.\")"
      ],
      "execution_count": null,
      "outputs": []
    },
    {
      "cell_type": "markdown",
      "metadata": {
        "id": "KAZYWLFeB9vR"
      },
      "source": [
        "## Transform Functions\n",
        "\n",
        "Create one or more functions that transform an input image."
      ]
    },
    {
      "cell_type": "code",
      "metadata": {
        "id": "kxh8f4JXgnTa"
      },
      "source": [
        "### Example: Function to create 3 new flipped images of the input\n",
        "def create_flipped(img):\n",
        "\n",
        "  # Create a list of flipped images\n",
        "  flipped = []\n",
        "  flipped.append(np.fliplr(img))\n",
        "  flipped.append(np.flipud(img))\n",
        "  flipped.append(np.flipud(np.fliplr(img)))\n",
        "\n",
        "  return flipped"
      ],
      "execution_count": null,
      "outputs": []
    },
    {
      "cell_type": "code",
      "metadata": {
        "id": "YAIqA5xdtt_6"
      },
      "source": [
        "# >>> ENTER YOUR CODE HERE <<<\n",
        "# Create one or more functions that create transforms of your images\n",
        "\n",
        "def create_rotate(img,angles):\n",
        "  rotated=[]\n",
        "  for angle in angles:\n",
        "    rotated.append(\n",
        "        skimage.transform.rotate(img, angle=angle, mode='edge', preserve_range=True).astype(np.uint8)\n",
        "        )\n",
        "  return rotated"
      ],
      "execution_count": null,
      "outputs": []
    },
    {
      "cell_type": "code",
      "source": [
        "def scale_and_crop(img,nb_croped):\n",
        "\n",
        "  scaled_croped=[]\n",
        "\n",
        "  ### Get height and width of image\n",
        "  height = img.shape[0]\n",
        "  width = img.shape[1]\n",
        "\n",
        "  # Choose a scale/crop factor (must be >= 1.0)\n",
        "  scale_factor = 1.3\n",
        "\n",
        "  # Create scaled images (e.g. make the image bigger)\n",
        "  img_scaled = skimage.transform.rescale(img,\n",
        "                                        scale=scale_factor,\n",
        "                                        anti_aliasing=True,\n",
        "                                        multichannel=True,\n",
        "                                        preserve_range=True)\n",
        "\n",
        "  # Make sure new scaled image is also 8-bit integer values\n",
        "  img_scaled = img_scaled.astype(np.uint8)\n",
        "\n",
        "  # Get height and width of scaled image\n",
        "  s_h = img_scaled.shape[0]\n",
        "  s_w = img_scaled.shape[1]\n",
        "\n",
        "  for i in range(nb_croped):\n",
        "    # Randomly choose start of crop point\n",
        "    crop_y = round(random.random() * (s_h - height))\n",
        "    crop_x = round(random.random() * (s_w - width))\n",
        "\n",
        "    # Crop scaled image\n",
        "    scaled_croped.append(img_scaled[crop_y:(crop_y + height), crop_x:(crop_x + width), :])\n",
        "\n",
        "    return scaled_croped"
      ],
      "metadata": {
        "id": "2l9EiWUAcIFM"
      },
      "execution_count": null,
      "outputs": []
    },
    {
      "cell_type": "code",
      "source": [
        "def translate(img,nb_image):\n",
        "\n",
        "  translated=[]\n",
        "  height = img.shape[0]\n",
        "  width = img.shape[1]\n",
        "\n",
        "  for i in range(nb_image):\n",
        "    # Choose random amount to translate (up to 1/4 image width, height) in either direction\n",
        "    tr_y = round((0.5 - random.random()) * (height / 2))\n",
        "    tr_x = round((0.5 - random.random()) * (width / 2))\n",
        "\n",
        "    # Perform translation to create new image\n",
        "    translation = skimage.transform.AffineTransform(translation=(tr_y, tr_x))\n",
        "    tr = skimage.transform.warp(img, translation, mode='edge', preserve_range=True)\n",
        "    tr = tr.astype(np.uint8)\n",
        "\n",
        "    translated.append(tr)\n",
        "\n",
        "  return translated"
      ],
      "metadata": {
        "id": "_XxC8SX2doTR"
      },
      "execution_count": null,
      "outputs": []
    },
    {
      "cell_type": "code",
      "source": [
        "def noised(img,nb_noised):\n",
        "  ### Noise\n",
        "  noised=[]\n",
        "  for i in range(nb_noised):\n",
        "\n",
        "    # Add random Gaussian noise\n",
        "    noise_1 = skimage.util.random_noise(img, mode='gaussian', seed=SEED)\n",
        "    noise_1 = (noise_1 * 255).astype(np.uint8)\n",
        "    noised.append(noise_1)\n",
        "\n",
        "    # Add random \"salt and pepper\" noise\n",
        "    noise_2 = skimage.util.random_noise(img, mode='s&p', seed=SEED)\n",
        "    noise_2 = (noise_2 * 255).astype(np.uint8)\n",
        "\n",
        "    noised.append(noise_2)\n",
        "\n",
        "    return noised"
      ],
      "metadata": {
        "id": "5J2WH56ofAJh"
      },
      "execution_count": null,
      "outputs": []
    },
    {
      "cell_type": "markdown",
      "metadata": {
        "id": "vaJR7hAOCEID"
      },
      "source": [
        "## Perform Transforms\n",
        "\n",
        "Call your functions to create a set of augmented data."
      ]
    },
    {
      "cell_type": "code",
      "metadata": {
        "id": "J9ryKQeQaOKE"
      },
      "source": [
        "### Function to open image and create a list of new transforms\n",
        "# NOTE: You will need to call your functions here!\n",
        "def create_transforms(file_path):\n",
        "\n",
        "  # Open the image\n",
        "  img = PIL.Image.open(file_path)\n",
        "\n",
        "  # Convert the image to a Numpy array (keep all color channels)\n",
        "  img_array = np.asarray(img)\n",
        "\n",
        "  # Add original image to front of list\n",
        "  img_tfs = []\n",
        "  img_tfs.append([img_array])\n",
        "\n",
        "  # Perform transforms (call your functions)\n",
        "  img_tfs.append(create_flipped(img_array))\n",
        "  # >>> ENTER YOUR CODE HERE <<<\n",
        "  # e.g. img_tfs.append(create_translations(img_array, 2))\n",
        "  img_tfs.append(noised(img_array, 2))\n",
        "  img_tfs.append(translate(img_array, 2))\n",
        "  img_tfs.append(scale_and_crop(img_array, 2))\n",
        "  img_tfs.append(create_rotate(img_array, [45,90,135]))\n",
        "  img_tfs.append(create_flipped(img_array))\n",
        "\n",
        "\n",
        "  # Flatten list of lists (to create one long list of images)\n",
        "  img_tfs = [img for img_list in img_tfs for img in img_list]\n",
        "\n",
        "  return img_tfs"
      ],
      "execution_count": null,
      "outputs": []
    },
    {
      "cell_type": "code",
      "metadata": {
        "id": "y3ZEsAGUAvUS",
        "colab": {
          "base_uri": "https://localhost:8080/"
        },
        "outputId": "ce74ac04-aa20-4c7c-90c9-1e018f5f032a"
      },
      "source": [
        "### Load all images, create transforms, and save in output directory\n",
        "\n",
        "# Find the directories in the dataset folder (skip the Jupyter Notebook checkpoints hidden folder)\n",
        "for label in os.listdir(DATASET_PATH):\n",
        "  class_dir = os.path.join(DATASET_PATH, label)\n",
        "  if os.path.isdir(class_dir) and label != \".ipynb_checkpoints\":\n",
        "\n",
        "    # Create output directory\n",
        "    out_path = os.path.join(OUT_PATH, label)\n",
        "    os.makedirs(out_path, exist_ok=True)\n",
        "\n",
        "    # Go through each image in the subfolder\n",
        "    for i, filename in enumerate(os.listdir(class_dir)):\n",
        "\n",
        "      # Skip the Jupyter Notebook checkpoints folder that sometimes gets added\n",
        "      if filename != \".ipynb_checkpoints\":\n",
        "\n",
        "        # Get the root of the filename before the extension\n",
        "        file_root = os.path.splitext(filename)[0]\n",
        "\n",
        "        # Do all transforms for that one image\n",
        "        file_path = os.path.join(DATASET_PATH, label, filename)\n",
        "        img_tfs = create_transforms(file_path)\n",
        "\n",
        "        # Save images to new files in output directory\n",
        "        for i, img in enumerate(img_tfs):\n",
        "\n",
        "          # Create a Pillow image from the Numpy array\n",
        "          img_pil = PIL.Image.fromarray(img)\n",
        "\n",
        "          # Construct filename (<orignal>_<transform_num>.<EXT>)\n",
        "          out_file_path = os.path.join(out_path, file_root + \"_\" + str(i) + IMG_EXT)\n",
        "\n",
        "          # Convert Numpy array to image and save as a file\n",
        "          img_pil = PIL.Image.fromarray(img)\n",
        "          img_pil.save(out_file_path)"
      ],
      "execution_count": null,
      "outputs": [
        {
          "output_type": "stream",
          "name": "stderr",
          "text": [
            "<ipython-input-7-ea4f046cb1b3>:13: FutureWarning: `multichannel` is a deprecated argument name for `rescale`. It will be removed in version 1.0. Please use `channel_axis` instead.\n",
            "  img_scaled = skimage.transform.rescale(img,\n"
          ]
        }
      ]
    },
    {
      "cell_type": "code",
      "metadata": {
        "id": "wWwxvzKxDJ18"
      },
      "source": [
        "### Zip our new dataset (use '!' to call Linux commands)\n",
        "!zip -r -q \"{OUT_ZIP}\" \"{OUT_PATH}\""
      ],
      "execution_count": null,
      "outputs": []
    }
  ]
}